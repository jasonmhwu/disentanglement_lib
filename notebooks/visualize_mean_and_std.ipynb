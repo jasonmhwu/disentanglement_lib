{
 "cells": [
  {
   "cell_type": "markdown",
   "id": "1c4ff8e7-5cd8-4a15-abfd-13496b0803e9",
   "metadata": {},
   "source": [
    "## goal: retrieve representation for data points from a pre-trained unsupervised VAE model.\n",
    "## calculate number of active latent dimensions, and plot the distribution of mean and standard deviation from each dimension"
   ]
  },
  {
   "cell_type": "code",
   "execution_count": 20,
   "id": "4de57f58-a447-465e-bfde-1c08380df2a0",
   "metadata": {},
   "outputs": [],
   "source": [
    "# imports\n",
    "import os\n",
    "import sys\n",
    "import tensorflow as tf\n",
    "import tensorflow_hub as hub\n",
    "from tensorflow.compat.v1 import gfile\n",
    "import pdb\n",
    "\n",
    "os.environ['CUDA_VISIBLE_DEVICES'] = '-1'  # CPU-only\n",
    "\n",
    "sys.path.append(os.path.abspath(\"/home/mwu34/disentanglement_lib\"))\n",
    "import numpy as np\n",
    "import pandas as pd\n",
    "\n",
    "import matplotlib.pyplot as plt\n",
    "%matplotlib inline\n",
    "from matplotlib import cm"
   ]
  },
  {
   "cell_type": "code",
   "execution_count": 14,
   "id": "979010fa-5c8f-4089-9693-923d8eff83dc",
   "metadata": {},
   "outputs": [],
   "source": [
    "# get the original dsprites dataset\n",
    "from disentanglement_lib.data.ground_truth import named_data\n",
    "dsprites = named_data.get_named_ground_truth_data('dsprites_full', -1)\n",
    "random_state = np.random.RandomState(0)\n",
    "factors, images = dsprites.sample(5, random_state)"
   ]
  },
  {
   "cell_type": "code",
   "execution_count": 28,
   "id": "de63d918-3c96-47d0-ae7f-0a80f1d8ed95",
   "metadata": {},
   "outputs": [
    {
     "name": "stdout",
     "output_type": "stream",
     "text": [
      "INFO:tensorflow:Saver not created because there are no variables in the graph to restore\n"
     ]
    },
    {
     "name": "stderr",
     "output_type": "stream",
     "text": [
      "INFO:tensorflow:Saver not created because there are no variables in the graph to restore\n"
     ]
    },
    {
     "name": "stdout",
     "output_type": "stream",
     "text": [
      "INFO:tensorflow:Saver not created because there are no variables in the graph to restore\n"
     ]
    },
    {
     "name": "stderr",
     "output_type": "stream",
     "text": [
      "INFO:tensorflow:Saver not created because there are no variables in the graph to restore\n"
     ]
    },
    {
     "name": "stdout",
     "output_type": "stream",
     "text": [
      "INFO:tensorflow:Saver not created because there are no variables in the graph to restore\n"
     ]
    },
    {
     "name": "stderr",
     "output_type": "stream",
     "text": [
      "INFO:tensorflow:Saver not created because there are no variables in the graph to restore\n"
     ]
    },
    {
     "name": "stdout",
     "output_type": "stream",
     "text": [
      "INFO:tensorflow:Graph was finalized.\n"
     ]
    },
    {
     "name": "stderr",
     "output_type": "stream",
     "text": [
      "INFO:tensorflow:Graph was finalized.\n"
     ]
    },
    {
     "name": "stdout",
     "output_type": "stream",
     "text": [
      "INFO:tensorflow:Running local_init_op.\n"
     ]
    },
    {
     "name": "stderr",
     "output_type": "stream",
     "text": [
      "INFO:tensorflow:Running local_init_op.\n"
     ]
    },
    {
     "name": "stdout",
     "output_type": "stream",
     "text": [
      "INFO:tensorflow:Done running local_init_op.\n"
     ]
    },
    {
     "name": "stderr",
     "output_type": "stream",
     "text": [
      "INFO:tensorflow:Done running local_init_op.\n"
     ]
    },
    {
     "name": "stdout",
     "output_type": "stream",
     "text": [
      "dict_keys(['mean', 'logvar'])\n"
     ]
    }
   ],
   "source": [
    "# retrieve the representation associated with the dataset\n",
    "def retrieve_representation(dataset, module_path, num_random_points, random=False):\n",
    "    with hub.eval_function_for_module(module_path) as f:\n",
    "        def _gaussian_encoder(x):\n",
    "            \"\"\"Encodes images using trained model.\"\"\"\n",
    "            # Push images through the TFHub module.\n",
    "            output = f(dict(images=x), signature=\"gaussian_encoder\", as_dict=True)\n",
    "            # Convert to numpy arrays and return.\n",
    "            return {key: np.array(values) for key, values in output.items()}\n",
    "        if random:\n",
    "            select_indices = random_state.choice(len(dataset.images), num_random_points, replace=False)\n",
    "            images = np.expand_dims(dataset.images[select_indices], 3)\n",
    "            representation_dict = _gaussian_encoder(images)\n",
    "            \n",
    "        else:  # retrieve representation of the entire dataset\n",
    "            num_points_per_block = 10000\n",
    "            num_blocks = int(np.ceil(len(dataset.images) / num_points_per_block))\n",
    "            representation_list = [0] * num_blocks\n",
    "            for block in range(num_blocks):\n",
    "                start_idx = num_points_per_block * block\n",
    "                images = np.expand_dims(dataset.images[start_idx: start_idx + num_points_per_block], 3)\n",
    "                representation_list[block] = _gaussian_encoder(images)\n",
    "            representation_dict = dict()\n",
    "            print(representation_list[0].keys())\n",
    "            # pdb.set_trace()\n",
    "            for key in representation_list[0].keys():\n",
    "                representation_dict[key] = np.concatenate([block[key] for block in representation_list], axis=0)\n",
    "            \n",
    "        representation_dict['std'] = np.exp(representation_dict['logvar'] / 2)\n",
    "        return representation_dict\n",
    "\n",
    "num_random_points = 10000\n",
    "module_path = \"/home/mwu34/disentanglement_lib/pretrained_unsupervised_study_v1/0/model/tfhub\"\n",
    "representation_dict = retrieve_representation(dsprites, module_path, -1, False)"
   ]
  },
  {
   "cell_type": "code",
   "execution_count": 82,
   "id": "62f6b7b1-37eb-44a4-ab2f-9c6f4e5f3a05",
   "metadata": {},
   "outputs": [],
   "source": [
    "# get the datapoints with highest or lowest summed variance\n",
    "# assume that we know the number of underlying FoVs, and we select the latent dimensions with smallest average std\n",
    "def select_informative_points(representation_dict, num_FoVs, num_informative_points, selection_criterion, save=False):\n",
    "    num_latent = representation_dict['std'].shape[1]\n",
    "    mean_of_std = [np.mean(representation_dict['std'][:, latent]) for latent in range(num_latent)]\n",
    "    std_thres = sorted(mean_of_std)[num_FoVs]\n",
    "    selected_latent_indices = [latent for latent in range(num_latent) if mean_of_std[latent] < std_thres]\n",
    "    summed_std = np.sum(representation_dict['std'][:, selected_latent_indices], axis=1)\n",
    "    print(f\"mean of std for each dimension is {mean_of_std}\")\n",
    "    print(f\"indices of smallest mean of std: {selected_latent_indices}\")\n",
    "    if selection_criterion == 'highest_summed_std':\n",
    "        thres = sorted(summed_std, reverse=True)[num_informative_points]\n",
    "        informative_points = {k: summed_std[k] for k in range(len(summed_std)) if summed_std[k] > thres}\n",
    "    elif selection_criterion == 'lowest_summed_std':\n",
    "        thres = sorted(summed_std)[num_informative_points]\n",
    "        informative_points = {k: summed_std[k] for k in range(len(summed_std)) if summed_std[k] < thres}\n",
    "    else:\n",
    "        raise ValueError(\"selection criterion not found\")\n",
    "    \n",
    "    if save:\n",
    "        save_path = os.path.join(\n",
    "            os.environ.get(\"DISENTANGLEMENT_LIB_DATA\", \".\"),\n",
    "            \"dsprites\", f\"{selection_criterion}_{num_informative_points}.pickle\"\n",
    "        )\n",
    "        with open(save_path, 'wb') as handle:\n",
    "            pickle.dump(informative_points, handle, protocol=pickle.HIGHEST_PROTOCOL)\n",
    "        print(f'saved informative points to {save_path}')\n",
    "    else:\n",
    "        print('no save_path specified, not saving informative points')\n",
    "    return informative_points\n",
    "\n",
    "\n",
    "def index_to_factors(index_array, factor_bases):\n",
    "    \"\"\"transform dataset image indices to factors.\"\"\"\n",
    "    factor_bases = factor_bases.astype(int)\n",
    "    factors = np.zeros((len(index_array), len(factor_bases) - 1))\n",
    "    for factor_idx, factor_base in enumerate(factor_bases[1:]):\n",
    "        factors[:, factor_idx], index_array = np.divmod(index_array, factor_base)\n",
    "    return factors\n",
    "        \n",
    "# are informative points distributed evenly?\n",
    "def plot_ground_truth_factor_hist(informative_factors, factor_sizes):\n",
    "    \"\"\"histogram on each ground truth FoV\"\"\"\n",
    "    print(f\"factor_size for each fov is {factor_sizes}\")\n",
    "    num_fov = len(factor_sizes)\n",
    "    for fov in range(num_fov):\n",
    "        plt.subplot(2, (num_fov+1) // 2, fov + 1)\n",
    "        plt.hist(informative_factors[:, fov], range=[0, factor_sizes[fov] - 1])"
   ]
  },
  {
   "cell_type": "code",
   "execution_count": 84,
   "id": "d9d84d14-7f12-44eb-b230-9a8af329c4b2",
   "metadata": {},
   "outputs": [
    {
     "name": "stdout",
     "output_type": "stream",
     "text": [
      "mean of std for each dimension is [0.024907418, 0.16880596, 0.032234702, 0.056757, 0.17729816, 0.04911853, 0.10775903, 0.034903396, 0.209119, 0.054461338]\n",
      "indices of smallest mean of std: [0, 2, 5, 7, 9]\n",
      "saved informative points to /home/mwu34/disentanglement_lib/datasets/dsprites/lowest_summed_std_1000.pickle\n"
     ]
    }
   ],
   "source": [
    "num_informative_points = 1000\n",
    "selection_criterion = 'lowest_summed_std' \n",
    "informative_points = select_informative_points(representation_dict, 5, num_informative_points, selection_criterion, save=True)\n",
    "# informative_factors = index_to_factors(list(informative_points.keys()), dsprites.factor_bases)\n",
    "# plot_ground_truth_factor_hist(informative_factors, dsprites.full_factor_sizes[1:])"
   ]
  },
  {
   "cell_type": "code",
   "execution_count": 11,
   "id": "d3873d4d-f772-474b-8442-da1cafb57494",
   "metadata": {},
   "outputs": [
    {
     "name": "stdout",
     "output_type": "stream",
     "text": [
      "dimension 1 should be informative\n",
      "dimension 3 should be informative\n",
      "dimension 4 should be informative\n",
      "dimension 5 should be informative\n",
      "dimension 6 should be informative\n",
      "dimension 7 should be informative\n",
      "dimension 8 should be informative\n",
      "dimension 9 should be informative\n"
     ]
    },
    {
     "data": {
      "image/png": "[encoded data removed]",
      "text/plain": [
       "<Figure size 432x288 with 1 Axes>"
      ]
     },
     "metadata": {
      "needs_background": "light"
     },
     "output_type": "display_data"
    }
   ],
   "source": [
    "for i in range(10):\n",
    "    mean_of_std = np.mean(representation_dict['std'][:, i])\n",
    "    if mean_of_std < 0.3:\n",
    "        plt.plot(sorted(representation_dict['std'][:, i]))\n",
    "        print(f\"dimension {i} should be informative\")\n",
    "# plt.legend(np.arange(10))\n",
    "# print(sorted(np.mean(representation_dict['std'], 0)))"
   ]
  },
  {
   "cell_type": "code",
   "execution_count": 8,
   "id": "b2f94290-3690-493c-bf42-01bf2ba05686",
   "metadata": {},
   "outputs": [
    {
     "data": {
      "image/png": "[encoded data removed]",
      "text/plain": [
       "<Figure size 432x288 with 10 Axes>"
      ]
     },
     "metadata": {
      "needs_background": "light"
     },
     "output_type": "display_data"
    }
   ],
   "source": [
    "for i in range(10):\n",
    "    plt.subplot(2, 5, i + 1)\n",
    "    plt.hist(representation_dict['mean'][:, i], bins=50)"
   ]
  },
  {
   "cell_type": "code",
   "execution_count": 10,
   "id": "0e4c211f-34f7-4af1-9c17-a365387c54f4",
   "metadata": {},
   "outputs": [
    {
     "name": "stdout",
     "output_type": "stream",
     "text": [
      "dimension 0 is active, with std of mu 1.170\n",
      "dimension 1 is active, with std of mu 1.421\n",
      "dimension 2 is active, with std of mu 1.092\n",
      "dimension 3 is active, with std of mu 1.445\n",
      "dimension 4 is active, with std of mu 1.454\n",
      "dimension 5 is active, with std of mu 0.977\n",
      "dimension 6 is active, with std of mu 0.974\n",
      "dimension 7 is active, with std of mu 0.985\n",
      "dimension 8 is active, with std of mu 0.989\n",
      "dimension 9 is active, with std of mu 0.966\n"
     ]
    },
    {
     "data": {
      "image/png": "[encoded data removed]",
      "text/plain": [
       "<Figure size 432x288 with 2 Axes>"
      ]
     },
     "metadata": {
      "needs_background": "light"
     },
     "output_type": "display_data"
    }
   ],
   "source": [
    "# draw figure\n",
    "# for each dimension, calculate whether it is active or not\n",
    "fig, axs = plt.subplots(1, 2)\n",
    "axs[0].plot(np.arange(10), np.std(representation_dict['mean'], 0))\n",
    "axs[0].set_title('std(mu)')\n",
    "axs[1].plot(np.arange(10), np.mean(representation_dict['std'], 0))\n",
    "axs[1].set_title('mean(sigma)')\n",
    "for i in range(10):\n",
    "    std_of_mean = np.std(representation_dict['mean'][:, i])\n",
    "    if std_of_mean > 0.5:\n",
    "        print(f\"dimension {i} is active, with std of mu {std_of_mean:.3f}\")\n",
    "    else:\n",
    "        print(f\"dimension {i} is inactive, with std of mu {std_of_mean:.3f}\")"
   ]
  },
  {
   "cell_type": "code",
   "execution_count": 21,
   "id": "8ba217fc-1dfd-45ce-a2de-5ac476e43f65",
   "metadata": {},
   "outputs": [
    {
     "name": "stdout",
     "output_type": "stream",
     "text": [
      "INFO:tensorflow:Saver not created because there are no variables in the graph to restore\n"
     ]
    },
    {
     "name": "stderr",
     "output_type": "stream",
     "text": [
      "INFO:tensorflow:Saver not created because there are no variables in the graph to restore\n"
     ]
    },
    {
     "name": "stdout",
     "output_type": "stream",
     "text": [
      "INFO:tensorflow:Graph was finalized.\n"
     ]
    },
    {
     "name": "stderr",
     "output_type": "stream",
     "text": [
      "INFO:tensorflow:Graph was finalized.\n"
     ]
    },
    {
     "name": "stdout",
     "output_type": "stream",
     "text": [
      "INFO:tensorflow:Running local_init_op.\n"
     ]
    },
    {
     "name": "stderr",
     "output_type": "stream",
     "text": [
      "INFO:tensorflow:Running local_init_op.\n"
     ]
    },
    {
     "name": "stdout",
     "output_type": "stream",
     "text": [
      "INFO:tensorflow:Done running local_init_op.\n"
     ]
    },
    {
     "name": "stderr",
     "output_type": "stream",
     "text": [
      "INFO:tensorflow:Done running local_init_op.\n"
     ]
    },
    {
     "name": "stdout",
     "output_type": "stream",
     "text": [
      "(5, 10)\n",
      "[[ 1.288534   -1.4352859   0.0042002  -0.5812464   0.53785264 -0.3958643\n",
      "  -1.508388    0.39641657 -0.72962546  1.5703562 ]\n",
      " [ 0.5888102   0.22784255 -0.4230413   0.1418778   1.2193228   0.77970386\n",
      "   0.72105145 -1.3141254  -0.4800512  -2.932123  ]\n",
      " [ 0.4405732   1.348196    1.239087    1.859676    0.27003914 -0.5283151\n",
      "   0.19695458  0.6522385   0.33971283 -0.02828822]\n",
      " [ 1.0429925  -1.3933804   1.694776   -0.02910801 -0.14538997  0.3383915\n",
      "  -1.4434935  -0.28672796 -1.0276875  -0.18718232]\n",
      " [ 0.9223475  -2.4617329  -0.08861076  1.2551376   0.04523423  1.1659943\n",
      "  -1.3360114  -1.5456886  -1.4465183  -0.17778702]]\n"
     ]
    }
   ],
   "source": [
    "# load tfhub after postprocessing for mean and sampled representation\n",
    "module_path = \"/home/mwu34/disentanglement_lib/pretrained_unsupervised_study_v1/0/postprocessed/mean/tfhub\"\n",
    "with hub.eval_function_for_module(module_path) as f:\n",
    "    def _representation_function(x):\n",
    "        \"\"\"Computes representation vector for input images.\"\"\"\n",
    "        output = f(dict(images=x), signature=\"representation\", as_dict=True)\n",
    "        return np.array(output[\"default\"])\n",
    "    gg = _representation_function(images)\n",
    "    print(gg.shape)\n",
    "    print(gg)\n"
   ]
  }
 ],
 "metadata": {
  "kernelspec": {
   "display_name": "tf1.5",
   "language": "python",
   "name": "tf1.5"
  },
  "language_info": {
   "codemirror_mode": {
    "name": "ipython",
    "version": 3
   },
   "file_extension": ".py",
   "mimetype": "text/x-python",
   "name": "python",
   "nbconvert_exporter": "python",
   "pygments_lexer": "ipython3",
   "version": "3.7.11"
  }
 },
 "nbformat": 4,
 "nbformat_minor": 5
}
