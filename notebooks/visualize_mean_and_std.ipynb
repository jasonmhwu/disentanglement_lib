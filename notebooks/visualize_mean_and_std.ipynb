{
 "cells": [
  {
   "cell_type": "markdown",
   "id": "1c4ff8e7-5cd8-4a15-abfd-13496b0803e9",
   "metadata": {},
   "source": [
    "## goal: retrieve representation for data points from a pre-trained unsupervised VAE model.\n",
    "## calculate number of active latent dimensions, and plot the distribution of mean and standard deviation from each dimension"
   ]
  },
  {
   "cell_type": "code",
   "execution_count": 1,
   "id": "4de57f58-a447-465e-bfde-1c08380df2a0",
   "metadata": {},
   "outputs": [],
   "source": [
    "# imports\n",
    "import os\n",
    "import sys\n",
    "from tensorflow.compat.v1 import gfile\n",
    "\n",
    "sys.path.append(os.path.abspath(\"/home/mwu34/disentanglement_lib\"))\n",
    "import numpy as np\n",
    "import pandas as pd\n",
    "\n",
    "import matplotlib.pyplot as plt\n",
    "%matplotlib inline\n",
    "from matplotlib import cm"
   ]
  },
  {
   "cell_type": "code",
   "execution_count": null,
   "id": "8ba217fc-1dfd-45ce-a2de-5ac476e43f65",
   "metadata": {},
   "outputs": [],
   "source": []
  }
 ],
 "metadata": {
  "kernelspec": {
   "display_name": "tf1.5",
   "language": "python",
   "name": "tf1.5"
  },
  "language_info": {
   "codemirror_mode": {
    "name": "ipython",
    "version": 3
   },
   "file_extension": ".py",
   "mimetype": "text/x-python",
   "name": "python",
   "nbconvert_exporter": "python",
   "pygments_lexer": "ipython3",
   "version": "3.7.11"
  }
 },
 "nbformat": 4,
 "nbformat_minor": 5
}
