{
 "cells": [
  {
   "cell_type": "markdown",
   "id": "48c4cdce-bf58-4c4c-b49d-ec5f1f62265c",
   "metadata": {},
   "source": [
    "## Play around datasets and create one with hierarchical prior\n"
   ]
  },
  {
   "cell_type": "code",
   "execution_count": 1,
   "id": "0d6bfcd4-d65a-4cd6-9d92-ef804db27fba",
   "metadata": {},
   "outputs": [],
   "source": [
    "import os\n",
    "import sys\n",
    "from tensorflow.compat.v1 import gfile\n",
    "\n",
    "sys.path.append(os.path.abspath(\"/home/mwu34/disentanglement_lib\"))\n",
    "import numpy as np\n",
    "import pandas as pd\n",
    "\n",
    "DSPRITES_PATH = os.path.join(\n",
    "    os.environ.get(\"DISENTANGLEMENT_LIB_DATA\", \".\"), \"dsprites\",\n",
    "    \"dsprites_ndarray_co1sh3sc6or40x32y32_64x64.npz\"\n",
    ")"
   ]
  },
  {
   "cell_type": "code",
   "execution_count": 7,
   "id": "a306e395-a9c4-466a-abcc-b6feed56d134",
   "metadata": {},
   "outputs": [],
   "source": [
    "with gfile.Open(DSPRITES_PATH, \"rb\") as data_file:\n",
    "    # Data was saved originally using python2, so we need to set the encoding.\n",
    "    data = np.load(data_file, encoding=\"latin1\", allow_pickle=True)\n",
    "    images = np.array(data[\"imgs\"])  # has shape 737280 * 64 * 64\n",
    "    factor_sizes = np.array(data[\"metadata\"][()][\"latents_sizes\"], dtype=np.int64)"
   ]
  },
  {
   "cell_type": "code",
   "execution_count": 14,
   "id": "169c0ce4-adc9-43aa-bd3e-6a032ef63955",
   "metadata": {},
   "outputs": [
    {
     "ename": "RuntimeError",
     "evalue": "Required bindings for `correlation_details` not provided in config: ['corr_indices', 'corr_type']",
     "output_type": "error",
     "traceback": [
      "\u001b[0;31m---------------------------------------------------------------------------\u001b[0m",
      "\u001b[0;31mRuntimeError\u001b[0m                              Traceback (most recent call last)",
      "\u001b[0;32m<ipython-input-14-9f7c5f82e1ca>\u001b[0m in \u001b[0;36m<module>\u001b[0;34m\u001b[0m\n\u001b[1;32m      2\u001b[0m \u001b[0;34m\u001b[0m\u001b[0m\n\u001b[1;32m      3\u001b[0m \u001b[0;34m\u001b[0m\u001b[0m\n\u001b[0;32m----> 4\u001b[0;31m \u001b[0mcorrelated_space\u001b[0m \u001b[0;34m=\u001b[0m \u001b[0mCorrelatedSplitDiscreteStateSpace\u001b[0m\u001b[0;34m(\u001b[0m\u001b[0mfactor_sizes\u001b[0m\u001b[0;34m,\u001b[0m \u001b[0;34m[\u001b[0m\u001b[0;36m3\u001b[0m\u001b[0;34m,\u001b[0m \u001b[0;36m4\u001b[0m\u001b[0;34m]\u001b[0m\u001b[0;34m)\u001b[0m\u001b[0;34m\u001b[0m\u001b[0;34m\u001b[0m\u001b[0m\n\u001b[0m",
      "\u001b[0;32m~/miniconda3/envs/tf1.5/lib/python3.7/site-packages/gin/config.py\u001b[0m in \u001b[0;36mgin_wrapper\u001b[0;34m(*args, **kwargs)\u001b[0m\n\u001b[1;32m   1037\u001b[0m       \u001b[0mminimal_selector\u001b[0m \u001b[0;34m=\u001b[0m \u001b[0m_REGISTRY\u001b[0m\u001b[0;34m.\u001b[0m\u001b[0mminimal_selector\u001b[0m\u001b[0;34m(\u001b[0m\u001b[0mselector\u001b[0m\u001b[0;34m)\u001b[0m\u001b[0;34m\u001b[0m\u001b[0;34m\u001b[0m\u001b[0m\n\u001b[1;32m   1038\u001b[0m       \u001b[0merr_str\u001b[0m \u001b[0;34m=\u001b[0m \u001b[0merr_str\u001b[0m\u001b[0;34m.\u001b[0m\u001b[0mformat\u001b[0m\u001b[0;34m(\u001b[0m\u001b[0mminimal_selector\u001b[0m\u001b[0;34m,\u001b[0m \u001b[0mmissing_required_params\u001b[0m\u001b[0;34m)\u001b[0m\u001b[0;34m\u001b[0m\u001b[0;34m\u001b[0m\u001b[0m\n\u001b[0;32m-> 1039\u001b[0;31m       \u001b[0;32mraise\u001b[0m \u001b[0mRuntimeError\u001b[0m\u001b[0;34m(\u001b[0m\u001b[0merr_str\u001b[0m\u001b[0;34m)\u001b[0m\u001b[0;34m\u001b[0m\u001b[0;34m\u001b[0m\u001b[0m\n\u001b[0m\u001b[1;32m   1040\u001b[0m \u001b[0;34m\u001b[0m\u001b[0m\n\u001b[1;32m   1041\u001b[0m     \u001b[0;31m# Now, update with the caller-supplied `kwargs`, allowing the caller to have\u001b[0m\u001b[0;34m\u001b[0m\u001b[0;34m\u001b[0m\u001b[0;34m\u001b[0m\u001b[0m\n",
      "\u001b[0;31mRuntimeError\u001b[0m: Required bindings for `correlation_details` not provided in config: ['corr_indices', 'corr_type']"
     ]
    }
   ],
   "source": [
    "from disentanglement_lib.data.ground_truth.util import CorrelatedSplitDiscreteStateSpace\n",
    "\n",
    "\n",
    "correlated_space = CorrelatedSplitDiscreteStateSpace(factor_sizes, [3, 4])"
   ]
  },
  {
   "cell_type": "code",
   "execution_count": 39,
   "id": "35cc2c88-1e96-4337-af03-2e76638f8e46",
   "metadata": {},
   "outputs": [],
   "source": [
    "# trying to get mapping from specific parameter combinations to model num\n",
    "from disentanglement_lib.config.unsupervised_study_v1.sweep import get_config\n",
    "import pandas as pd\n",
    "\n",
    "configs = get_config()\n",
    "df = pd.DataFrame(configs)"
   ]
  },
  {
   "cell_type": "code",
   "execution_count": 3,
   "id": "3da86ba2-4f67-42b4-b3d1-cb969650e5df",
   "metadata": {},
   "outputs": [
    {
     "data": {
      "text/plain": [
       "0     1000\n",
       "1     1000\n",
       "2     1000\n",
       "3     1000\n",
       "4     1000\n",
       "      ... \n",
       "67    1000\n",
       "68    1000\n",
       "69    1000\n",
       "70    1000\n",
       "71    1000\n",
       "Name: evaluate_every_n_steps, Length: 72, dtype: int64"
      ]
     },
     "execution_count": 3,
     "metadata": {},
     "output_type": "execute_result"
    }
   ],
   "source": [
    "df['evaluate_every_n_steps']"
   ]
  },
  {
   "cell_type": "code",
   "execution_count": 2,
   "id": "d68dbef4-56dc-4519-91c2-b22f669a2b1a",
   "metadata": {},
   "outputs": [
    {
     "data": {
      "text/html": [
       "<div>\n",
       "<style scoped>\n",
       "    .dataframe tbody tr th:only-of-type {\n",
       "        vertical-align: middle;\n",
       "    }\n",
       "\n",
       "    .dataframe tbody tr th {\n",
       "        vertical-align: top;\n",
       "    }\n",
       "\n",
       "    .dataframe thead th {\n",
       "        text-align: right;\n",
       "    }\n",
       "</style>\n",
       "<table border=\"1\" class=\"dataframe\">\n",
       "  <thead>\n",
       "    <tr style=\"text-align: right;\">\n",
       "      <th></th>\n",
       "      <th>correlation_details.corr_indices</th>\n",
       "      <th>dataset.name</th>\n",
       "      <th>correlation_hyperparameter.line_width</th>\n",
       "      <th>correlation_details.corr_type</th>\n",
       "      <th>encoder.encoder_fn</th>\n",
       "      <th>decoder.decoder_fn</th>\n",
       "      <th>correlation.active_correlation</th>\n",
       "      <th>model.name</th>\n",
       "      <th>vae.beta</th>\n",
       "      <th>model.model</th>\n",
       "      <th>conv_encoder.num_parameters_scale</th>\n",
       "      <th>deconv_decoder.num_parameters_scale</th>\n",
       "      <th>encoder.num_latent</th>\n",
       "      <th>dataset.num_training_data</th>\n",
       "      <th>evaluate_every_n_steps</th>\n",
       "      <th>model.random_seed</th>\n",
       "    </tr>\n",
       "  </thead>\n",
       "  <tbody>\n",
       "    <tr>\n",
       "      <th>0</th>\n",
       "      <td>[3, 4]</td>\n",
       "      <td>dsprites_full</td>\n",
       "      <td>10.0</td>\n",
       "      <td>line</td>\n",
       "      <td>@conv_encoder</td>\n",
       "      <td>@deconv_decoder</td>\n",
       "      <td>True</td>\n",
       "      <td>beta_vae</td>\n",
       "      <td>0.125</td>\n",
       "      <td>@vae()</td>\n",
       "      <td>1.0</td>\n",
       "      <td>1.0</td>\n",
       "      <td>1</td>\n",
       "      <td>1000</td>\n",
       "      <td>1000</td>\n",
       "      <td>0</td>\n",
       "    </tr>\n",
       "    <tr>\n",
       "      <th>1</th>\n",
       "      <td>[3, 4]</td>\n",
       "      <td>dsprites_full</td>\n",
       "      <td>10.0</td>\n",
       "      <td>line</td>\n",
       "      <td>@conv_encoder</td>\n",
       "      <td>@deconv_decoder</td>\n",
       "      <td>True</td>\n",
       "      <td>beta_vae</td>\n",
       "      <td>0.125</td>\n",
       "      <td>@vae()</td>\n",
       "      <td>1.0</td>\n",
       "      <td>1.0</td>\n",
       "      <td>1</td>\n",
       "      <td>3000</td>\n",
       "      <td>1000</td>\n",
       "      <td>0</td>\n",
       "    </tr>\n",
       "    <tr>\n",
       "      <th>2</th>\n",
       "      <td>[3, 4]</td>\n",
       "      <td>dsprites_full</td>\n",
       "      <td>10.0</td>\n",
       "      <td>line</td>\n",
       "      <td>@conv_encoder</td>\n",
       "      <td>@deconv_decoder</td>\n",
       "      <td>True</td>\n",
       "      <td>beta_vae</td>\n",
       "      <td>0.125</td>\n",
       "      <td>@vae()</td>\n",
       "      <td>1.0</td>\n",
       "      <td>1.0</td>\n",
       "      <td>1</td>\n",
       "      <td>5000</td>\n",
       "      <td>1000</td>\n",
       "      <td>0</td>\n",
       "    </tr>\n",
       "    <tr>\n",
       "      <th>3</th>\n",
       "      <td>[3, 4]</td>\n",
       "      <td>dsprites_full</td>\n",
       "      <td>10.0</td>\n",
       "      <td>line</td>\n",
       "      <td>@conv_encoder</td>\n",
       "      <td>@deconv_decoder</td>\n",
       "      <td>True</td>\n",
       "      <td>beta_vae</td>\n",
       "      <td>0.125</td>\n",
       "      <td>@vae()</td>\n",
       "      <td>1.0</td>\n",
       "      <td>1.0</td>\n",
       "      <td>1</td>\n",
       "      <td>7000</td>\n",
       "      <td>1000</td>\n",
       "      <td>0</td>\n",
       "    </tr>\n",
       "    <tr>\n",
       "      <th>4</th>\n",
       "      <td>[3, 4]</td>\n",
       "      <td>dsprites_full</td>\n",
       "      <td>10.0</td>\n",
       "      <td>line</td>\n",
       "      <td>@conv_encoder</td>\n",
       "      <td>@deconv_decoder</td>\n",
       "      <td>True</td>\n",
       "      <td>beta_vae</td>\n",
       "      <td>0.125</td>\n",
       "      <td>@vae()</td>\n",
       "      <td>1.0</td>\n",
       "      <td>1.0</td>\n",
       "      <td>2</td>\n",
       "      <td>1000</td>\n",
       "      <td>1000</td>\n",
       "      <td>0</td>\n",
       "    </tr>\n",
       "    <tr>\n",
       "      <th>...</th>\n",
       "      <td>...</td>\n",
       "      <td>...</td>\n",
       "      <td>...</td>\n",
       "      <td>...</td>\n",
       "      <td>...</td>\n",
       "      <td>...</td>\n",
       "      <td>...</td>\n",
       "      <td>...</td>\n",
       "      <td>...</td>\n",
       "      <td>...</td>\n",
       "      <td>...</td>\n",
       "      <td>...</td>\n",
       "      <td>...</td>\n",
       "      <td>...</td>\n",
       "      <td>...</td>\n",
       "      <td>...</td>\n",
       "    </tr>\n",
       "    <tr>\n",
       "      <th>67</th>\n",
       "      <td>[3, 4]</td>\n",
       "      <td>dsprites_full</td>\n",
       "      <td>10.0</td>\n",
       "      <td>line</td>\n",
       "      <td>@conv_encoder</td>\n",
       "      <td>@deconv_decoder</td>\n",
       "      <td>True</td>\n",
       "      <td>beta_vae</td>\n",
       "      <td>1.000</td>\n",
       "      <td>@vae()</td>\n",
       "      <td>1.0</td>\n",
       "      <td>1.0</td>\n",
       "      <td>8</td>\n",
       "      <td>7000</td>\n",
       "      <td>1000</td>\n",
       "      <td>0</td>\n",
       "    </tr>\n",
       "    <tr>\n",
       "      <th>68</th>\n",
       "      <td>[3, 4]</td>\n",
       "      <td>dsprites_full</td>\n",
       "      <td>10.0</td>\n",
       "      <td>line</td>\n",
       "      <td>@conv_encoder</td>\n",
       "      <td>@deconv_decoder</td>\n",
       "      <td>True</td>\n",
       "      <td>beta_vae</td>\n",
       "      <td>1.000</td>\n",
       "      <td>@vae()</td>\n",
       "      <td>1.0</td>\n",
       "      <td>1.0</td>\n",
       "      <td>10</td>\n",
       "      <td>1000</td>\n",
       "      <td>1000</td>\n",
       "      <td>0</td>\n",
       "    </tr>\n",
       "    <tr>\n",
       "      <th>69</th>\n",
       "      <td>[3, 4]</td>\n",
       "      <td>dsprites_full</td>\n",
       "      <td>10.0</td>\n",
       "      <td>line</td>\n",
       "      <td>@conv_encoder</td>\n",
       "      <td>@deconv_decoder</td>\n",
       "      <td>True</td>\n",
       "      <td>beta_vae</td>\n",
       "      <td>1.000</td>\n",
       "      <td>@vae()</td>\n",
       "      <td>1.0</td>\n",
       "      <td>1.0</td>\n",
       "      <td>10</td>\n",
       "      <td>3000</td>\n",
       "      <td>1000</td>\n",
       "      <td>0</td>\n",
       "    </tr>\n",
       "    <tr>\n",
       "      <th>70</th>\n",
       "      <td>[3, 4]</td>\n",
       "      <td>dsprites_full</td>\n",
       "      <td>10.0</td>\n",
       "      <td>line</td>\n",
       "      <td>@conv_encoder</td>\n",
       "      <td>@deconv_decoder</td>\n",
       "      <td>True</td>\n",
       "      <td>beta_vae</td>\n",
       "      <td>1.000</td>\n",
       "      <td>@vae()</td>\n",
       "      <td>1.0</td>\n",
       "      <td>1.0</td>\n",
       "      <td>10</td>\n",
       "      <td>5000</td>\n",
       "      <td>1000</td>\n",
       "      <td>0</td>\n",
       "    </tr>\n",
       "    <tr>\n",
       "      <th>71</th>\n",
       "      <td>[3, 4]</td>\n",
       "      <td>dsprites_full</td>\n",
       "      <td>10.0</td>\n",
       "      <td>line</td>\n",
       "      <td>@conv_encoder</td>\n",
       "      <td>@deconv_decoder</td>\n",
       "      <td>True</td>\n",
       "      <td>beta_vae</td>\n",
       "      <td>1.000</td>\n",
       "      <td>@vae()</td>\n",
       "      <td>1.0</td>\n",
       "      <td>1.0</td>\n",
       "      <td>10</td>\n",
       "      <td>7000</td>\n",
       "      <td>1000</td>\n",
       "      <td>0</td>\n",
       "    </tr>\n",
       "  </tbody>\n",
       "</table>\n",
       "<p>72 rows × 16 columns</p>\n",
       "</div>"
      ],
      "text/plain": [
       "   correlation_details.corr_indices   dataset.name  \\\n",
       "0                            [3, 4]  dsprites_full   \n",
       "1                            [3, 4]  dsprites_full   \n",
       "2                            [3, 4]  dsprites_full   \n",
       "3                            [3, 4]  dsprites_full   \n",
       "4                            [3, 4]  dsprites_full   \n",
       "..                              ...            ...   \n",
       "67                           [3, 4]  dsprites_full   \n",
       "68                           [3, 4]  dsprites_full   \n",
       "69                           [3, 4]  dsprites_full   \n",
       "70                           [3, 4]  dsprites_full   \n",
       "71                           [3, 4]  dsprites_full   \n",
       "\n",
       "    correlation_hyperparameter.line_width correlation_details.corr_type  \\\n",
       "0                                    10.0                          line   \n",
       "1                                    10.0                          line   \n",
       "2                                    10.0                          line   \n",
       "3                                    10.0                          line   \n",
       "4                                    10.0                          line   \n",
       "..                                    ...                           ...   \n",
       "67                                   10.0                          line   \n",
       "68                                   10.0                          line   \n",
       "69                                   10.0                          line   \n",
       "70                                   10.0                          line   \n",
       "71                                   10.0                          line   \n",
       "\n",
       "   encoder.encoder_fn decoder.decoder_fn  correlation.active_correlation  \\\n",
       "0       @conv_encoder    @deconv_decoder                            True   \n",
       "1       @conv_encoder    @deconv_decoder                            True   \n",
       "2       @conv_encoder    @deconv_decoder                            True   \n",
       "3       @conv_encoder    @deconv_decoder                            True   \n",
       "4       @conv_encoder    @deconv_decoder                            True   \n",
       "..                ...                ...                             ...   \n",
       "67      @conv_encoder    @deconv_decoder                            True   \n",
       "68      @conv_encoder    @deconv_decoder                            True   \n",
       "69      @conv_encoder    @deconv_decoder                            True   \n",
       "70      @conv_encoder    @deconv_decoder                            True   \n",
       "71      @conv_encoder    @deconv_decoder                            True   \n",
       "\n",
       "   model.name  vae.beta model.model  conv_encoder.num_parameters_scale  \\\n",
       "0    beta_vae     0.125      @vae()                                1.0   \n",
       "1    beta_vae     0.125      @vae()                                1.0   \n",
       "2    beta_vae     0.125      @vae()                                1.0   \n",
       "3    beta_vae     0.125      @vae()                                1.0   \n",
       "4    beta_vae     0.125      @vae()                                1.0   \n",
       "..        ...       ...         ...                                ...   \n",
       "67   beta_vae     1.000      @vae()                                1.0   \n",
       "68   beta_vae     1.000      @vae()                                1.0   \n",
       "69   beta_vae     1.000      @vae()                                1.0   \n",
       "70   beta_vae     1.000      @vae()                                1.0   \n",
       "71   beta_vae     1.000      @vae()                                1.0   \n",
       "\n",
       "    deconv_decoder.num_parameters_scale  encoder.num_latent  \\\n",
       "0                                   1.0                   1   \n",
       "1                                   1.0                   1   \n",
       "2                                   1.0                   1   \n",
       "3                                   1.0                   1   \n",
       "4                                   1.0                   2   \n",
       "..                                  ...                 ...   \n",
       "67                                  1.0                   8   \n",
       "68                                  1.0                  10   \n",
       "69                                  1.0                  10   \n",
       "70                                  1.0                  10   \n",
       "71                                  1.0                  10   \n",
       "\n",
       "    dataset.num_training_data  evaluate_every_n_steps  model.random_seed  \n",
       "0                        1000                    1000                  0  \n",
       "1                        3000                    1000                  0  \n",
       "2                        5000                    1000                  0  \n",
       "3                        7000                    1000                  0  \n",
       "4                        1000                    1000                  0  \n",
       "..                        ...                     ...                ...  \n",
       "67                       7000                    1000                  0  \n",
       "68                       1000                    1000                  0  \n",
       "69                       3000                    1000                  0  \n",
       "70                       5000                    1000                  0  \n",
       "71                       7000                    1000                  0  \n",
       "\n",
       "[72 rows x 16 columns]"
      ]
     },
     "execution_count": 2,
     "metadata": {},
     "output_type": "execute_result"
    }
   ],
   "source": [
    "# trying to get mapping from specific parameter combinations to model num\n",
    "# from disentanglement_lib.config.unsupervised_study_v1.sweep import get_config\n",
    "from disentanglement_lib.config.double_descent_study_v8.sweep import get_config\n",
    "import pandas as pd\n",
    "\n",
    "configs = get_config()\n",
    "df = pd.DataFrame(configs)\n",
    "\n",
    "# Get the beta_tc_vae models using dsprites and a beta param of 4.\n",
    "model = df['model.name'] == \"beta_vae\"\n",
    "dataset = df['dataset.name'] == \"dsprites_full\"\n",
    "# beta = df[\"vae.beta\"] == 1.0\n",
    "\n",
    "# Give all the possible model configs unused parameters excluded (e.g., annealed_vae.gamma)\n",
    "# print(df[model & dataset & beta].dropna(axis=1))\n",
    "\n",
    "# Give the list of model ids with this configuration\n",
    "df[model & dataset].head(200)\n"
   ]
  },
  {
   "cell_type": "code",
   "execution_count": 4,
   "id": "a1ddcddb-8e24-4165-8686-6db303395e30",
   "metadata": {},
   "outputs": [],
   "source": [
    "from disentanglement_lib.data.ground_truth import named_data\n",
    "dsprites = named_data.get_named_ground_truth_data('dsprites_full')"
   ]
  },
  {
   "cell_type": "code",
   "execution_count": 2,
   "id": "7af00210-e517-4136-87b1-74459c309e08",
   "metadata": {},
   "outputs": [],
   "source": [
    "from disentanglement_lib.data.ground_truth import named_data\n",
    "\n",
    "\n",
    "dsprites_subset = named_data.get_named_ground_truth_data('dsprites_full', False, 'valid', 700000)"
   ]
  },
  {
   "cell_type": "code",
   "execution_count": 4,
   "id": "54f854a7-4ca7-4f61-a229-be9cc71a2096",
   "metadata": {},
   "outputs": [],
   "source": [
    "random_state = np.random.RandomState(0)\n",
    "factors, images = dsprites_subset.sample(5, random_state)"
   ]
  },
  {
   "cell_type": "code",
   "execution_count": 6,
   "id": "7d14dda8-fae6-4644-963e-971706bffae6",
   "metadata": {},
   "outputs": [
    {
     "data": {
      "text/plain": [
       "(5, 64, 64, 1)"
      ]
     },
     "execution_count": 6,
     "metadata": {},
     "output_type": "execute_result"
    }
   ],
   "source": [
    "images.shape"
   ]
  },
  {
   "cell_type": "code",
   "execution_count": 14,
   "id": "a92296dc-f6c0-4f6d-840d-66f65477dce1",
   "metadata": {},
   "outputs": [
    {
     "name": "stdout",
     "output_type": "stream",
     "text": [
      "6\n",
      "5\n",
      "4\n",
      "3\n",
      "2\n"
     ]
    }
   ],
   "source": [
    "gg = [1,2,3,4,5,6]\n",
    "for i in gg[:0:-1]:\n",
    "    print(i)"
   ]
  },
  {
   "cell_type": "code",
   "execution_count": 42,
   "id": "482c83f3-ea2e-4214-ac94-ea1aefd3c1cb",
   "metadata": {},
   "outputs": [],
   "source": [
    "num_factors = 5\n",
    "\n",
    "def index_to_factors(index_array, factor_bases):\n",
    "    factor_bases = factor_bases.astype(int)\n",
    "    print(factor_bases)\n",
    "    factors = np.zeros((len(index_array), num_factors))\n",
    "    for factor_idx, factor_base in enumerate(factor_bases[1:]):\n",
    "        factors[:, factor_idx], index_array = np.divmod(index_array, factor_base)\n",
    "    return factors\n",
    "\n",
    "def factors_to_index(factor_array, factor_bases):\n",
    "    indices = np.array(np.dot(factor_array, factor_bases), dtype=np.int64)\n",
    "    return indices"
   ]
  },
  {
   "cell_type": "code",
   "execution_count": 40,
   "id": "23806f4a-e348-4619-8d8f-4d8701ca7e8f",
   "metadata": {},
   "outputs": [
    {
     "name": "stdout",
     "output_type": "stream",
     "text": [
      "[737280 245760  40960   1024     32      1]\n"
     ]
    }
   ],
   "source": [
    "gg = np.array([10000, 20000, 30000, 700000])\n",
    "res = index_to_factors(gg, dsprites.factor_bases)"
   ]
  },
  {
   "cell_type": "code",
   "execution_count": 45,
   "id": "1774986f-066a-4f08-8dd4-5fc14831d5cd",
   "metadata": {},
   "outputs": [
    {
     "data": {
      "text/plain": [
       "array([ 10000,  20000,  30000, 700000])"
      ]
     },
     "execution_count": 45,
     "metadata": {},
     "output_type": "execute_result"
    }
   ],
   "source": [
    "back = factors_to_index(res, dsprites.factor_bases[1:])\n",
    "back"
   ]
  },
  {
   "cell_type": "code",
   "execution_count": 32,
   "id": "8ba5940e-819e-4464-8292-1fe05a5b143e",
   "metadata": {},
   "outputs": [
    {
     "data": {
      "text/plain": [
       "array([7.3728e+05, 2.4576e+05, 4.0960e+04, 1.0240e+03, 3.2000e+01,\n",
       "       1.0000e+00])"
      ]
     },
     "execution_count": 32,
     "metadata": {},
     "output_type": "execute_result"
    }
   ],
   "source": [
    "dsprites.factor_bases"
   ]
  },
  {
   "cell_type": "code",
   "execution_count": 7,
   "id": "3d920e7d-8b89-4317-a8e7-29da34c93bd9",
   "metadata": {},
   "outputs": [],
   "source": [
    "\n",
    "a, b = dsprites.sample(10, random_state)"
   ]
  },
  {
   "cell_type": "code",
   "execution_count": 10,
   "id": "6014cc1a-0fd4-42c3-a19f-f4ade4d5417b",
   "metadata": {},
   "outputs": [
    {
     "data": {
      "text/plain": [
       "(10, 5)"
      ]
     },
     "execution_count": 10,
     "metadata": {},
     "output_type": "execute_result"
    }
   ],
   "source": [
    "a.shape"
   ]
  },
  {
   "cell_type": "code",
   "execution_count": 17,
   "id": "eb654c9f-a92b-47dc-a028-7cb3f53a76fd",
   "metadata": {},
   "outputs": [],
   "source": [
    "# split dsprites dataset into two parts\n",
    "\n",
    "full_size = np.prod(dsprites.factor_sizes)\n",
    "train_dataset_size = 7000\n",
    "train_indices = np.random.choice(full_size, train_dataset_size, replace=False)\n",
    "train_indices = np.sort(train_indices)\n",
    "valid_indices = np.delete(np.arange(full_size), train_indices)\n",
    "\n",
    "train_indices_path = os.path.join(\n",
    "    os.environ.get(\"DISENTANGLEMENT_LIB_DATA\", \".\"), \"dsprites\", f\"train{train_dataset_size}.npy\"\n",
    ")\n",
    "valid_indices_path = os.path.join(\n",
    "    os.environ.get(\"DISENTANGLEMENT_LIB_DATA\", \".\"), \"dsprites\", f\"valid{train_dataset_size}.npy\"\n",
    ")\n",
    "np.save(train_indices_path, train_indices)\n",
    "np.save(valid_indices_path, valid_indices)"
   ]
  },
  {
   "cell_type": "code",
   "execution_count": 21,
   "id": "199c869e-c934-4826-a63f-57fb49da2637",
   "metadata": {},
   "outputs": [
    {
     "data": {
      "text/plain": [
       "array([ 3, 50, 50])"
      ]
     },
     "execution_count": 21,
     "metadata": {},
     "output_type": "execute_result"
    }
   ],
   "source": [
    "gg = np.random.choice([10, 50, 3], 3, replace=True)\n",
    "gg"
   ]
  },
  {
   "cell_type": "code",
   "execution_count": 62,
   "id": "c2c21d71-3922-4c75-8b60-df806861e368",
   "metadata": {},
   "outputs": [
    {
     "data": {
      "text/plain": [
       "True"
      ]
     },
     "execution_count": 62,
     "metadata": {},
     "output_type": "execute_result"
    }
   ],
   "source": [
    "4688 in valid_indices"
   ]
  },
  {
   "cell_type": "code",
   "execution_count": 23,
   "id": "b2adb3e3-6028-4c5c-929e-2f0e3fc7e0dd",
   "metadata": {},
   "outputs": [
    {
     "data": {
      "text/plain": [
       "3"
      ]
     },
     "execution_count": 23,
     "metadata": {},
     "output_type": "execute_result"
    }
   ],
   "source": [
    "len(gg)"
   ]
  },
  {
   "cell_type": "code",
   "execution_count": null,
   "id": "b871fc12-5089-4a4a-a7c4-612dcef17c12",
   "metadata": {},
   "outputs": [],
   "source": []
  }
 ],
 "metadata": {
  "kernelspec": {
   "display_name": "tf1.5",
   "language": "python",
   "name": "tf1.5"
  },
  "language_info": {
   "codemirror_mode": {
    "name": "ipython",
    "version": 3
   },
   "file_extension": ".py",
   "mimetype": "text/x-python",
   "name": "python",
   "nbconvert_exporter": "python",
   "pygments_lexer": "ipython3",
   "version": "3.7.11"
  }
 },
 "nbformat": 4,
 "nbformat_minor": 5
}
