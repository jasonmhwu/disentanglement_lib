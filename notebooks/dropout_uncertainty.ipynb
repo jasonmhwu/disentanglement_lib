{
 "cells": [
  {
   "cell_type": "markdown",
   "id": "a27377c7-8b7e-4a37-982b-4a275535c2e6",
   "metadata": {},
   "source": [
    "### Compare dropout uncertainty with logvar"
   ]
  },
  {
   "cell_type": "code",
   "execution_count": 1,
   "id": "8f13b4c3-6019-4d67-8790-8ff905febd1b",
   "metadata": {},
   "outputs": [],
   "source": [
    "# imports\n",
    "import os\n",
    "import sys\n",
    "import tensorflow as tf\n",
    "import tensorflow_hub as hub\n",
    "from tensorflow.compat.v1 import gfile\n",
    "import pdb\n",
    "import pickle\n",
    "\n",
    "os.environ['CUDA_VISIBLE_DEVICES'] = '-1'  # CPU-only\n",
    "\n",
    "sys.path.append(os.path.abspath(\"/home/mwu34/disentanglement_lib\"))\n",
    "import numpy as np\n",
    "np.set_printoptions(precision=3, suppress=True)\n",
    "\n",
    "import pandas as pd\n",
    "\n",
    "import matplotlib.pyplot as plt\n",
    "%matplotlib inline\n",
    "from matplotlib import cm\n",
    "\n",
    "from scipy.stats import spearmanr"
   ]
  },
  {
   "cell_type": "code",
   "execution_count": 2,
   "id": "3713d68b-b45e-47f9-8503-9331bc7f3ee3",
   "metadata": {},
   "outputs": [],
   "source": [
    "def index_to_factors(index_array, factor_bases, save=False):\n",
    "    \"\"\"transform dataset image indices to factors.\"\"\"\n",
    "    factor_bases = factor_bases.astype(int)\n",
    "    factors = np.zeros((len(index_array), len(factor_bases) - 1))\n",
    "    for factor_idx, factor_base in enumerate(factor_bases[1:]):\n",
    "        factors[:, factor_idx], index_array = np.divmod(index_array, factor_base)\n",
    "    \n",
    "    if save:\n",
    "        save_path = os.path.join(\n",
    "            os.environ.get(\"DISENTANGLEMENT_LIB_DATA\", \".\"),\n",
    "            \"dsprites\", f\"{selection_criterion}.pickle\"\n",
    "        )\n",
    "        informative_points = {\n",
    "            'informative_indices': index_array,\n",
    "            'informative_factors': factors\n",
    "        }\n",
    "        with open(save_path, 'wb') as handle:\n",
    "            pickle.dump(informative_points, handle, protocol=pickle.HIGHEST_PROTOCOL)\n",
    "        print(f'saved informative points to {save_path}')\n",
    "    else:\n",
    "        print('no save_path specified, not saving informative points')\n",
    "    \n",
    "    return factors"
   ]
  },
  {
   "cell_type": "code",
   "execution_count": 3,
   "id": "3cd12c0f-a5a7-44da-8e09-22adf80c3936",
   "metadata": {},
   "outputs": [],
   "source": [
    "# retrieve the representation associated with the dataset\n",
    "def retrieve_representation(dataset, module_path, num_random_points, random=False):\n",
    "    with hub.eval_function_for_module(module_path) as f:\n",
    "        def _gaussian_encoder(x):\n",
    "            \"\"\"Encodes images using trained model.\"\"\"\n",
    "            # Push images through the TFHub module.\n",
    "            output = f(dict(images=x), signature=\"gaussian_encoder\", as_dict=True)\n",
    "            # Convert to numpy arrays and return.\n",
    "            return {key: np.array(values) for key, values in output.items()}\n",
    "        if random:\n",
    "            select_indices = random_state.choice(len(dataset.images), num_random_points, replace=False)\n",
    "            images = np.expand_dims(dataset.images[select_indices], 3)\n",
    "            representation_dict = _gaussian_encoder(images)\n",
    "            \n",
    "        else:  # retrieve representation of the entire dataset\n",
    "            num_points_per_block = 10000\n",
    "            num_blocks = int(np.ceil(len(dataset.images) / num_points_per_block))\n",
    "            representation_list = [0] * num_blocks\n",
    "            for block in range(num_blocks):\n",
    "                start_idx = num_points_per_block * block\n",
    "                images = np.expand_dims(dataset.images[start_idx: start_idx + num_points_per_block], 3)\n",
    "                representation_list[block] = _gaussian_encoder(images)\n",
    "            representation_dict = dict()\n",
    "            print(representation_list[0].keys())\n",
    "            for key in representation_list[0].keys():\n",
    "                representation_dict[key] = np.concatenate([block[key] for block in representation_list], axis=0)\n",
    "            \n",
    "        representation_dict['std'] = np.exp(representation_dict['logvar'] / 2)\n",
    "        representation_dict['kl'] = (\n",
    "            representation_dict['mean'] ** 2\n",
    "            + representation_dict['std'] ** 2\n",
    "            - representation_dict['logvar'] - 1\n",
    "        ) / 2\n",
    "        return representation_dict"
   ]
  },
  {
   "cell_type": "code",
   "execution_count": 4,
   "id": "25e082db-6a17-49f4-aa11-83407410a07c",
   "metadata": {},
   "outputs": [],
   "source": [
    "# get the original dsprites dataset\n",
    "from disentanglement_lib.data.ground_truth import named_data\n",
    "dsprites = named_data.get_named_ground_truth_data('dsprites_full', -1)"
   ]
  },
  {
   "cell_type": "code",
   "execution_count": 5,
   "id": "77f6a352-60f3-48ef-af82-146efeab07cf",
   "metadata": {},
   "outputs": [
    {
     "name": "stdout",
     "output_type": "stream",
     "text": [
      "no save_path specified, not saving informative points\n"
     ]
    }
   ],
   "source": [
    "# for a model, retrieve dropout mean and uncertainty \n",
    "model_artifact_dir = \"/home/mwu34/disentanglement_lib/output_active_learning_study_v10/8/model/artifacts/\"\n",
    "labelled_indices = []\n",
    "num_iterations = 9\n",
    "num_latent = 10\n",
    "\n",
    "dropout_mean = []\n",
    "dropout_uncertainty = []\n",
    "\n",
    "for iteration in range(10):\n",
    "    file_path = os.path.join(model_artifact_dir, f\"labelled_indices_iter_{iteration}.npy\")\n",
    "    indices = np.load(file_path)\n",
    "    labelled_indices.extend(list(indices))\n",
    "    if iteration > 0:\n",
    "        mean_file_path = os.path.join(model_artifact_dir, f\"dropout_mean_iter_{iteration}.npy\")\n",
    "        dropout_mean.append(np.load(mean_file_path))\n",
    "        uncertainty_file_path = os.path.join(model_artifact_dir, f\"dropout_uncertainty_iter_{iteration}.npy\")\n",
    "        dropout_uncertainty.append(np.load(uncertainty_file_path))\n",
    "    \n",
    "labelled_factors = index_to_factors(labelled_indices, dsprites.factor_bases, save=False)"
   ]
  },
  {
   "cell_type": "code",
   "execution_count": 6,
   "id": "6e889eec-62fe-4688-bdae-9290ba33ceb9",
   "metadata": {},
   "outputs": [
    {
     "data": {
      "text/plain": [
       "array([[0.111, 0.132, 0.139, 0.063, 0.062, 0.011, 0.011, 0.01 , 0.011,\n",
       "        0.01 ],\n",
       "       [0.096, 0.126, 0.115, 0.062, 0.06 , 0.003, 0.004, 0.003, 0.003,\n",
       "        0.003],\n",
       "       [0.091, 0.124, 0.107, 0.061, 0.06 , 0.003, 0.003, 0.003, 0.003,\n",
       "        0.003],\n",
       "       [0.088, 0.122, 0.105, 0.06 , 0.059, 0.003, 0.003, 0.003, 0.003,\n",
       "        0.003],\n",
       "       [0.089, 0.121, 0.11 , 0.06 , 0.059, 0.003, 0.003, 0.003, 0.003,\n",
       "        0.003],\n",
       "       [0.09 , 0.12 , 0.106, 0.06 , 0.059, 0.003, 0.003, 0.003, 0.003,\n",
       "        0.003],\n",
       "       [0.091, 0.12 , 0.104, 0.06 , 0.059, 0.002, 0.003, 0.003, 0.003,\n",
       "        0.003],\n",
       "       [0.091, 0.12 , 0.103, 0.06 , 0.059, 0.002, 0.002, 0.003, 0.003,\n",
       "        0.003],\n",
       "       [0.092, 0.12 , 0.1  , 0.06 , 0.059, 0.002, 0.003, 0.003, 0.003,\n",
       "        0.003]])"
      ]
     },
     "execution_count": 6,
     "metadata": {},
     "output_type": "execute_result"
    }
   ],
   "source": [
    "# average uncertainty over time\n",
    "average_uncertainty = np.zeros((num_iterations, num_latent))\n",
    "for iteration in range(num_iterations):\n",
    "    average_uncertainty[iteration, :] = np.mean(dropout_uncertainty[iteration], axis=0)\n",
    "average_uncertainty"
   ]
  },
  {
   "cell_type": "code",
   "execution_count": 7,
   "id": "a222fc85-f4df-4678-aaf7-4942fb7eed64",
   "metadata": {},
   "outputs": [
    {
     "data": {
      "text/plain": [
       "array([[0.108, 0.818, 0.14 , 0.875, 0.868, 0.008, 0.009, 0.007, 0.008,\n",
       "        0.01 ],\n",
       "       [0.093, 0.802, 0.102, 0.856, 0.846, 0.005, 0.006, 0.005, 0.005,\n",
       "        0.005],\n",
       "       [0.086, 0.796, 0.09 , 0.846, 0.837, 0.004, 0.006, 0.004, 0.004,\n",
       "        0.004],\n",
       "       [0.081, 0.793, 0.084, 0.841, 0.834, 0.004, 0.005, 0.004, 0.004,\n",
       "        0.004],\n",
       "       [0.082, 0.791, 0.09 , 0.837, 0.83 , 0.004, 0.005, 0.004, 0.004,\n",
       "        0.005],\n",
       "       [0.083, 0.787, 0.086, 0.833, 0.827, 0.005, 0.004, 0.004, 0.004,\n",
       "        0.005],\n",
       "       [0.087, 0.788, 0.085, 0.832, 0.827, 0.004, 0.005, 0.005, 0.004,\n",
       "        0.005],\n",
       "       [0.087, 0.789, 0.085, 0.832, 0.826, 0.004, 0.004, 0.005, 0.004,\n",
       "        0.005],\n",
       "       [0.088, 0.79 , 0.082, 0.832, 0.826, 0.004, 0.004, 0.004, 0.004,\n",
       "        0.004]])"
      ]
     },
     "execution_count": 7,
     "metadata": {},
     "output_type": "execute_result"
    }
   ],
   "source": [
    "# absolute mean value over time\n",
    "abs_mean = np.zeros((num_iterations, num_latent))\n",
    "for iteration in range(num_iterations):\n",
    "    abs_mean[iteration, :] = np.mean(np.abs(dropout_mean[iteration]), axis=0)\n",
    "abs_mean"
   ]
  },
  {
   "cell_type": "code",
   "execution_count": 8,
   "id": "410f020f-f96a-45b4-8f46-ee2a4f3dd00a",
   "metadata": {},
   "outputs": [
    {
     "name": "stdout",
     "output_type": "stream",
     "text": [
      "INFO:tensorflow:Saver not created because there are no variables in the graph to restore\n"
     ]
    },
    {
     "name": "stderr",
     "output_type": "stream",
     "text": [
      "INFO:tensorflow:Saver not created because there are no variables in the graph to restore\n"
     ]
    },
    {
     "name": "stdout",
     "output_type": "stream",
     "text": [
      "INFO:tensorflow:Saver not created because there are no variables in the graph to restore\n"
     ]
    },
    {
     "name": "stderr",
     "output_type": "stream",
     "text": [
      "INFO:tensorflow:Saver not created because there are no variables in the graph to restore\n"
     ]
    },
    {
     "name": "stdout",
     "output_type": "stream",
     "text": [
      "INFO:tensorflow:Saver not created because there are no variables in the graph to restore\n"
     ]
    },
    {
     "name": "stderr",
     "output_type": "stream",
     "text": [
      "INFO:tensorflow:Saver not created because there are no variables in the graph to restore\n"
     ]
    },
    {
     "name": "stdout",
     "output_type": "stream",
     "text": [
      "WARNING:tensorflow:From /home/mwu34/miniconda3/envs/tf1.5/lib/python3.7/site-packages/tensorflow_core/python/ops/array_ops.py:1475: where (from tensorflow.python.ops.array_ops) is deprecated and will be removed in a future version.\n",
      "Instructions for updating:\n",
      "Use tf.where in 2.0, which has the same broadcast rule as np.where\n"
     ]
    },
    {
     "name": "stderr",
     "output_type": "stream",
     "text": [
      "WARNING:tensorflow:From /home/mwu34/miniconda3/envs/tf1.5/lib/python3.7/site-packages/tensorflow_core/python/ops/array_ops.py:1475: where (from tensorflow.python.ops.array_ops) is deprecated and will be removed in a future version.\n",
      "Instructions for updating:\n",
      "Use tf.where in 2.0, which has the same broadcast rule as np.where\n"
     ]
    },
    {
     "name": "stdout",
     "output_type": "stream",
     "text": [
      "INFO:tensorflow:Graph was finalized.\n"
     ]
    },
    {
     "name": "stderr",
     "output_type": "stream",
     "text": [
      "INFO:tensorflow:Graph was finalized.\n"
     ]
    },
    {
     "name": "stdout",
     "output_type": "stream",
     "text": [
      "INFO:tensorflow:Running local_init_op.\n"
     ]
    },
    {
     "name": "stderr",
     "output_type": "stream",
     "text": [
      "INFO:tensorflow:Running local_init_op.\n"
     ]
    },
    {
     "name": "stdout",
     "output_type": "stream",
     "text": [
      "INFO:tensorflow:Done running local_init_op.\n"
     ]
    },
    {
     "name": "stderr",
     "output_type": "stream",
     "text": [
      "INFO:tensorflow:Done running local_init_op.\n"
     ]
    },
    {
     "name": "stdout",
     "output_type": "stream",
     "text": [
      "dict_keys(['mean', 'logvar'])\n"
     ]
    }
   ],
   "source": [
    "# retrieve the mean and logvar for this model\n",
    "module_path = \"/home/mwu34/disentanglement_lib/output_active_learning_study_v10/8/model/tfhub/\"\n",
    "representation_dict = retrieve_representation(dsprites, module_path, -1, False)"
   ]
  },
  {
   "cell_type": "code",
   "execution_count": 9,
   "id": "224390f0-5c33-40f8-86d2-15096d34ea81",
   "metadata": {},
   "outputs": [
    {
     "data": {
      "text/plain": [
       "Text(0.5, 1.0, 'correlation between mean and dropout_mean')"
      ]
     },
     "execution_count": 9,
     "metadata": {},
     "output_type": "execute_result"
    },
    {
     "data": {
      "image/png": "[encoded data removed]",
      "text/plain": [
       "<Figure size 432x288 with 2 Axes>"
      ]
     },
     "metadata": {
      "needs_background": "light"
     },
     "output_type": "display_data"
    }
   ],
   "source": [
    "# compare correlation between mean and dropout_mean\n",
    "mean_corr = np.zeros((num_iterations, num_latent))\n",
    "for iteration in range(num_iterations):\n",
    "    for latent in range(num_latent):\n",
    "        results = spearmanr(representation_dict['mean'][:, latent], dropout_mean[iteration][:, latent])\n",
    "        mean_corr[iteration, latent] = abs(results.correlation)\n",
    "        \n",
    "plt.imshow(mean_corr, cmap='hot')\n",
    "plt.clim([0, 1])\n",
    "plt.colorbar()\n",
    "plt.xlabel('dimensions')\n",
    "plt.ylabel('iterations')\n",
    "plt.title('correlation between mean and dropout_mean')"
   ]
  },
  {
   "cell_type": "code",
   "execution_count": 10,
   "id": "32ea3c24-ebf0-4cb6-bed1-c282ce103c9a",
   "metadata": {},
   "outputs": [
    {
     "data": {
      "text/plain": [
       "array([[0.161, 0.992, 0.109, 0.999, 0.999, 0.253, 0.447, 0.198, 0.144,\n",
       "        0.508],\n",
       "       [0.34 , 0.993, 0.211, 1.   , 1.   , 0.349, 0.611, 0.503, 0.144,\n",
       "        0.639],\n",
       "       [0.385, 0.994, 0.267, 1.   , 1.   , 0.541, 0.8  , 0.736, 0.556,\n",
       "        0.55 ],\n",
       "       [0.452, 0.995, 0.341, 1.   , 1.   , 0.678, 0.844, 0.72 , 0.708,\n",
       "        0.739],\n",
       "       [0.555, 0.995, 0.397, 1.   , 1.   , 0.633, 0.855, 0.764, 0.799,\n",
       "        0.723],\n",
       "       [0.623, 0.996, 0.486, 1.   , 1.   , 0.725, 0.913, 0.78 , 0.733,\n",
       "        0.756],\n",
       "       [0.701, 0.996, 0.568, 1.   , 1.   , 0.863, 0.887, 0.787, 0.798,\n",
       "        0.842],\n",
       "       [0.76 , 0.997, 0.661, 1.   , 1.   , 0.877, 0.916, 0.868, 0.909,\n",
       "        0.884],\n",
       "       [0.822, 0.997, 0.752, 1.   , 1.   , 0.93 , 0.915, 0.925, 0.927,\n",
       "        0.926]])"
      ]
     },
     "execution_count": 10,
     "metadata": {},
     "output_type": "execute_result"
    }
   ],
   "source": [
    "mean_corr"
   ]
  },
  {
   "cell_type": "code",
   "execution_count": 11,
   "id": "04f8d5e6-678c-41ad-a1b2-85f5ca992116",
   "metadata": {},
   "outputs": [
    {
     "data": {
      "text/plain": [
       "Text(0.5, 1.0, 'correlation between logvar and dropout_uncertainty')"
      ]
     },
     "execution_count": 11,
     "metadata": {},
     "output_type": "execute_result"
    },
    {
     "data": {
      "image/png": "[encoded data removed]",
      "text/plain": [
       "<Figure size 432x288 with 2 Axes>"
      ]
     },
     "metadata": {
      "needs_background": "light"
     },
     "output_type": "display_data"
    }
   ],
   "source": [
    "# compare correlation between logvar and dropout_uncertainty\n",
    "uncertainty_corr = np.zeros((num_iterations, num_latent))\n",
    "for iteration in range(num_iterations):\n",
    "    for latent in range(num_latent):\n",
    "        results = spearmanr(representation_dict['logvar'][:, latent], dropout_uncertainty[iteration][:, latent])\n",
    "        uncertainty_corr[iteration, latent] = abs(results.correlation)\n",
    "        \n",
    "plt.imshow(uncertainty_corr, cmap='hot')\n",
    "plt.clim([0, 1])\n",
    "plt.colorbar()\n",
    "plt.xlabel('dimensions')\n",
    "plt.ylabel('iterations')\n",
    "plt.title('correlation between logvar and dropout_uncertainty')"
   ]
  },
  {
   "cell_type": "code",
   "execution_count": 12,
   "id": "7cbd76d7-cece-401e-b123-801e5c628683",
   "metadata": {},
   "outputs": [
    {
     "data": {
      "text/plain": [
       "array([[0.208, 0.14 , 0.11 , 0.869, 0.862, 0.28 , 0.133, 0.175, 0.126,\n",
       "        0.152],\n",
       "       [0.321, 0.266, 0.008, 0.88 , 0.873, 0.228, 0.134, 0.079, 0.006,\n",
       "        0.016],\n",
       "       [0.308, 0.309, 0.036, 0.884, 0.878, 0.273, 0.087, 0.078, 0.047,\n",
       "        0.093],\n",
       "       [0.287, 0.358, 0.001, 0.886, 0.882, 0.26 , 0.116, 0.083, 0.085,\n",
       "        0.132],\n",
       "       [0.299, 0.375, 0.004, 0.888, 0.884, 0.25 , 0.15 , 0.082, 0.122,\n",
       "        0.109],\n",
       "       [0.277, 0.395, 0.049, 0.889, 0.885, 0.307, 0.194, 0.099, 0.145,\n",
       "        0.07 ],\n",
       "       [0.271, 0.401, 0.049, 0.89 , 0.886, 0.295, 0.167, 0.121, 0.148,\n",
       "        0.043],\n",
       "       [0.285, 0.394, 0.023, 0.89 , 0.886, 0.243, 0.146, 0.152, 0.204,\n",
       "        0.014],\n",
       "       [0.261, 0.404, 0.001, 0.89 , 0.887, 0.261, 0.173, 0.217, 0.22 ,\n",
       "        0.013]])"
      ]
     },
     "execution_count": 12,
     "metadata": {},
     "output_type": "execute_result"
    }
   ],
   "source": [
    "uncertainty_corr"
   ]
  },
  {
   "cell_type": "code",
   "execution_count": 13,
   "id": "e2be0e56-fb3d-422a-819c-55830ee7dcdb",
   "metadata": {},
   "outputs": [
    {
     "name": "stdout",
     "output_type": "stream",
     "text": [
      "no save_path specified, not saving informative points\n"
     ]
    }
   ],
   "source": [
    "all_factors = index_to_factors(np.arange(len(dsprites.images)), dsprites.factor_bases, save=False)"
   ]
  },
  {
   "cell_type": "code",
   "execution_count": 14,
   "id": "37ef0770-49e0-44be-b075-d7f15f3ab5d0",
   "metadata": {},
   "outputs": [
    {
     "data": {
      "text/plain": [
       "Text(0.5, 1.0, 'correlation between ground_truth and dropout_mean')"
      ]
     },
     "execution_count": 14,
     "metadata": {},
     "output_type": "execute_result"
    },
    {
     "data": {
      "image/png": "[encoded data removed]",
      "text/plain": [
       "<Figure size 432x288 with 2 Axes>"
      ]
     },
     "metadata": {
      "needs_background": "light"
     },
     "output_type": "display_data"
    }
   ],
   "source": [
    "# compare dropout mean to ground truth factor values\n",
    "num_gt_factors = 5\n",
    "ground_truth_mean_corr = np.zeros((num_iterations, num_gt_factors))\n",
    "for iteration in range(num_iterations):\n",
    "    for latent in range(num_gt_factors):\n",
    "        results = spearmanr(dropout_mean[iteration][:, latent], all_factors[:, latent])\n",
    "        ground_truth_mean_corr[iteration, latent] = abs(results.correlation)\n",
    "        \n",
    "plt.imshow(ground_truth_mean_corr, cmap='hot')\n",
    "plt.clim([0, 1])\n",
    "plt.colorbar()\n",
    "plt.xlabel('dimensions')\n",
    "plt.ylabel('iterations')\n",
    "plt.title('correlation between ground_truth and dropout_mean')"
   ]
  },
  {
   "cell_type": "code",
   "execution_count": 15,
   "id": "ba2fc6ef-fbfe-4028-95a0-b0b84cdfeab8",
   "metadata": {},
   "outputs": [
    {
     "data": {
      "text/plain": [
       "array([[0.119, 0.912, 0.02 , 0.997, 0.997],\n",
       "       [0.122, 0.913, 0.028, 0.997, 0.997],\n",
       "       [0.134, 0.913, 0.018, 0.997, 0.997],\n",
       "       [0.117, 0.913, 0.018, 0.997, 0.997],\n",
       "       [0.122, 0.913, 0.02 , 0.997, 0.997],\n",
       "       [0.098, 0.913, 0.024, 0.997, 0.997],\n",
       "       [0.097, 0.913, 0.021, 0.997, 0.997],\n",
       "       [0.111, 0.913, 0.021, 0.997, 0.997],\n",
       "       [0.112, 0.912, 0.018, 0.997, 0.997]])"
      ]
     },
     "execution_count": 15,
     "metadata": {},
     "output_type": "execute_result"
    }
   ],
   "source": [
    "ground_truth_mean_corr"
   ]
  },
  {
   "cell_type": "code",
   "execution_count": null,
   "id": "0b8004e7-7326-40e1-a51c-41689bed6e91",
   "metadata": {},
   "outputs": [],
   "source": []
  }
 ],
 "metadata": {
  "kernelspec": {
   "display_name": "tf1.5",
   "language": "python",
   "name": "tf1.5"
  },
  "language_info": {
   "codemirror_mode": {
    "name": "ipython",
    "version": 3
   },
   "file_extension": ".py",
   "mimetype": "text/x-python",
   "name": "python",
   "nbconvert_exporter": "python",
   "pygments_lexer": "ipython3",
   "version": "3.7.11"
  }
 },
 "nbformat": 4,
 "nbformat_minor": 5
}
