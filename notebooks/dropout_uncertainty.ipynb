{
 "cells": [
  {
   "cell_type": "markdown",
   "id": "a27377c7-8b7e-4a37-982b-4a275535c2e6",
   "metadata": {},
   "source": [
    "### Compare dropout uncertainty with logvar"
   ]
  },
  {
   "cell_type": "code",
   "execution_count": 1,
   "id": "8f13b4c3-6019-4d67-8790-8ff905febd1b",
   "metadata": {},
   "outputs": [],
   "source": [
    "# imports\n",
    "import os\n",
    "import sys\n",
    "import tensorflow as tf\n",
    "import tensorflow_hub as hub\n",
    "from tensorflow.compat.v1 import gfile\n",
    "import pdb\n",
    "import pickle\n",
    "\n",
    "os.environ['CUDA_VISIBLE_DEVICES'] = '-1'  # CPU-only\n",
    "\n",
    "sys.path.append(os.path.abspath(\"/home/mwu34/disentanglement_lib\"))\n",
    "import numpy as np\n",
    "np.set_printoptions(precision=3, suppress=True)\n",
    "\n",
    "import pandas as pd\n",
    "\n",
    "import matplotlib.pyplot as plt\n",
    "%matplotlib inline\n",
    "from matplotlib import cm\n",
    "\n",
    "from scipy.stats import spearmanr"
   ]
  },
  {
   "cell_type": "code",
   "execution_count": 2,
   "id": "3713d68b-b45e-47f9-8503-9331bc7f3ee3",
   "metadata": {},
   "outputs": [],
   "source": [
    "def index_to_factors(index_array, factor_bases, save=False):\n",
    "    \"\"\"transform dataset image indices to factors.\"\"\"\n",
    "    factor_bases = factor_bases.astype(int)\n",
    "    factors = np.zeros((len(index_array), len(factor_bases) - 1))\n",
    "    for factor_idx, factor_base in enumerate(factor_bases[1:]):\n",
    "        factors[:, factor_idx], index_array = np.divmod(index_array, factor_base)\n",
    "    \n",
    "    if save:\n",
    "        save_path = os.path.join(\n",
    "            os.environ.get(\"DISENTANGLEMENT_LIB_DATA\", \".\"),\n",
    "            \"dsprites\", f\"{selection_criterion}.pickle\"\n",
    "        )\n",
    "        informative_points = {\n",
    "            'informative_indices': index_array,\n",
    "            'informative_factors': factors\n",
    "        }\n",
    "        with open(save_path, 'wb') as handle:\n",
    "            pickle.dump(informative_points, handle, protocol=pickle.HIGHEST_PROTOCOL)\n",
    "        print(f'saved informative points to {save_path}')\n",
    "    else:\n",
    "        print('no save_path specified, not saving informative points')\n",
    "    \n",
    "    return factors"
   ]
  },
  {
   "cell_type": "code",
   "execution_count": 3,
   "id": "3cd12c0f-a5a7-44da-8e09-22adf80c3936",
   "metadata": {},
   "outputs": [],
   "source": [
    "# retrieve the representation associated with the dataset\n",
    "def retrieve_representation(dataset, module_path, num_random_points, random=False):\n",
    "    with hub.eval_function_for_module(module_path) as f:\n",
    "        def _gaussian_encoder(x):\n",
    "            \"\"\"Encodes images using trained model.\"\"\"\n",
    "            # Push images through the TFHub module.\n",
    "            output = f(dict(images=x), signature=\"gaussian_encoder\", as_dict=True)\n",
    "            # Convert to numpy arrays and return.\n",
    "            return {key: np.array(values) for key, values in output.items()}\n",
    "        if random:\n",
    "            select_indices = random_state.choice(len(dataset.images), num_random_points, replace=False)\n",
    "            images = np.expand_dims(dataset.images[select_indices], 3)\n",
    "            representation_dict = _gaussian_encoder(images)\n",
    "            \n",
    "        else:  # retrieve representation of the entire dataset\n",
    "            num_points_per_block = 10000\n",
    "            num_blocks = int(np.ceil(len(dataset.images) / num_points_per_block))\n",
    "            representation_list = [0] * num_blocks\n",
    "            for block in range(num_blocks):\n",
    "                start_idx = num_points_per_block * block\n",
    "                images = np.expand_dims(dataset.images[start_idx: start_idx + num_points_per_block], 3)\n",
    "                representation_list[block] = _gaussian_encoder(images)\n",
    "            representation_dict = dict()\n",
    "            print(representation_list[0].keys())\n",
    "            for key in representation_list[0].keys():\n",
    "                representation_dict[key] = np.concatenate([block[key] for block in representation_list], axis=0)\n",
    "            \n",
    "        representation_dict['std'] = np.exp(representation_dict['logvar'] / 2)\n",
    "        representation_dict['kl'] = (\n",
    "            representation_dict['mean'] ** 2\n",
    "            + representation_dict['std'] ** 2\n",
    "            - representation_dict['logvar'] - 1\n",
    "        ) / 2\n",
    "        return representation_dict"
   ]
  },
  {
   "cell_type": "code",
   "execution_count": 4,
   "id": "25e082db-6a17-49f4-aa11-83407410a07c",
   "metadata": {},
   "outputs": [],
   "source": [
    "# get the original dsprites dataset\n",
    "from disentanglement_lib.data.ground_truth import named_data\n",
    "dsprites = named_data.get_named_ground_truth_data('dsprites_full', -1)"
   ]
  },
  {
   "cell_type": "code",
   "execution_count": 31,
   "id": "f9aadac0-6094-481d-a336-ce74e65171b7",
   "metadata": {},
   "outputs": [
    {
     "data": {
      "text/plain": [
       "array([737280., 245760.,  40960.,   1024.,     32.,      1.])"
      ]
     },
     "execution_count": 31,
     "metadata": {},
     "output_type": "execute_result"
    }
   ],
   "source": [
    "dsprites.factor_bases"
   ]
  },
  {
   "cell_type": "code",
   "execution_count": 33,
   "id": "8dcc0a19-52d2-42f4-92d5-29d27362bd1c",
   "metadata": {},
   "outputs": [
    {
     "data": {
      "text/plain": [
       "array([ 1,  3,  6, 40, 32, 32])"
      ]
     },
     "execution_count": 33,
     "metadata": {},
     "output_type": "execute_result"
    }
   ],
   "source": [
    "dsprites.factor_sizes"
   ]
  },
  {
   "cell_type": "code",
   "execution_count": 34,
   "id": "6c1e0a01-32d7-48e9-87a2-cb9b19f6fef7",
   "metadata": {},
   "outputs": [],
   "source": [
    "small_factor_sizes = dsprites.factor_sizes[1:]\n",
    "small_factor_bases = np.prod(small_factor_sizes) / np.cumprod(\n",
    "            small_factor_sizes)"
   ]
  },
  {
   "cell_type": "code",
   "execution_count": 35,
   "id": "d17f1f90-e467-4e26-bd08-997c7bc7e1d4",
   "metadata": {},
   "outputs": [
    {
     "data": {
      "text/plain": [
       "array([245760.,  40960.,   1024.,     32.,      1.])"
      ]
     },
     "execution_count": 35,
     "metadata": {},
     "output_type": "execute_result"
    }
   ],
   "source": [
    "small_factor_bases"
   ]
  },
  {
   "cell_type": "code",
   "execution_count": 14,
   "id": "77f6a352-60f3-48ef-af82-146efeab07cf",
   "metadata": {},
   "outputs": [
    {
     "name": "stdout",
     "output_type": "stream",
     "text": [
      "no save_path specified, not saving informative points\n"
     ]
    }
   ],
   "source": [
    "# for a model, retrieve dropout mean and uncertainty \n",
    "model_artifact_dir = \"/home/mwu34/disentanglement_lib/output_active_learning_study_v7/44/model/artifacts/\"\n",
    "labelled_indices = []\n",
    "num_iterations = 9\n",
    "num_latent = 10\n",
    "\n",
    "dropout_mean = []\n",
    "dropout_uncertainty = []\n",
    "\n",
    "for iteration in range(10):\n",
    "    file_path = os.path.join(model_artifact_dir, f\"labelled_indices_iter_{iteration}.npy\")\n",
    "    indices = np.load(file_path)\n",
    "    labelled_indices.extend(list(indices))\n",
    "    if iteration > 0:\n",
    "        mean_file_path = os.path.join(model_artifact_dir, f\"dropout_mean_iter_{iteration}.npy\")\n",
    "        dropout_mean.append(np.load(mean_file_path))\n",
    "        uncertainty_file_path = os.path.join(model_artifact_dir, f\"dropout_uncertainty_iter_{iteration}.npy\")\n",
    "        dropout_uncertainty.append(np.load(uncertainty_file_path))\n",
    "    \n",
    "labelled_factors = index_to_factors(labelled_indices, dsprites.factor_bases, save=False)"
   ]
  },
  {
   "cell_type": "code",
   "execution_count": 15,
   "id": "6e889eec-62fe-4688-bdae-9290ba33ceb9",
   "metadata": {},
   "outputs": [
    {
     "data": {
      "text/plain": [
       "array([[0.2  , 0.306, 0.202, 0.159, 0.158, 0.007, 0.006, 0.007, 0.006,\n",
       "        0.007],\n",
       "       [0.209, 0.287, 0.182, 0.152, 0.152, 0.005, 0.006, 0.005, 0.005,\n",
       "        0.006],\n",
       "       [0.197, 0.277, 0.162, 0.15 , 0.15 , 0.005, 0.005, 0.004, 0.005,\n",
       "        0.005],\n",
       "       [0.189, 0.272, 0.153, 0.147, 0.148, 0.004, 0.004, 0.004, 0.004,\n",
       "        0.005],\n",
       "       [0.185, 0.268, 0.15 , 0.146, 0.147, 0.004, 0.004, 0.004, 0.004,\n",
       "        0.004],\n",
       "       [0.18 , 0.268, 0.14 , 0.146, 0.146, 0.004, 0.004, 0.004, 0.004,\n",
       "        0.004],\n",
       "       [0.177, 0.265, 0.138, 0.144, 0.144, 0.004, 0.004, 0.004, 0.003,\n",
       "        0.004],\n",
       "       [0.173, 0.262, 0.13 , 0.143, 0.143, 0.004, 0.003, 0.004, 0.003,\n",
       "        0.004],\n",
       "       [0.172, 0.261, 0.124, 0.142, 0.143, 0.004, 0.004, 0.004, 0.003,\n",
       "        0.004]])"
      ]
     },
     "execution_count": 15,
     "metadata": {},
     "output_type": "execute_result"
    }
   ],
   "source": [
    "# average uncertainty over time\n",
    "average_uncertainty = np.zeros((num_iterations, num_latent))\n",
    "for iteration in range(num_iterations):\n",
    "    average_uncertainty[iteration, :] = np.mean(dropout_uncertainty[iteration], axis=0)\n",
    "average_uncertainty"
   ]
  },
  {
   "cell_type": "code",
   "execution_count": 16,
   "id": "a222fc85-f4df-4678-aaf7-4942fb7eed64",
   "metadata": {},
   "outputs": [
    {
     "data": {
      "text/plain": [
       "array([[0.334, 0.808, 0.218, 0.871, 0.872, 0.009, 0.006, 0.006, 0.005,\n",
       "        0.006],\n",
       "       [0.269, 0.781, 0.158, 0.846, 0.848, 0.006, 0.005, 0.004, 0.004,\n",
       "        0.007],\n",
       "       [0.23 , 0.774, 0.122, 0.834, 0.838, 0.007, 0.005, 0.003, 0.005,\n",
       "        0.007],\n",
       "       [0.2  , 0.769, 0.106, 0.818, 0.824, 0.005, 0.005, 0.004, 0.005,\n",
       "        0.006],\n",
       "       [0.186, 0.762, 0.096, 0.812, 0.817, 0.005, 0.005, 0.004, 0.005,\n",
       "        0.006],\n",
       "       [0.176, 0.769, 0.087, 0.809, 0.814, 0.005, 0.006, 0.004, 0.004,\n",
       "        0.005],\n",
       "       [0.17 , 0.761, 0.081, 0.803, 0.805, 0.005, 0.005, 0.004, 0.002,\n",
       "        0.005],\n",
       "       [0.159, 0.756, 0.074, 0.795, 0.799, 0.005, 0.004, 0.004, 0.002,\n",
       "        0.005],\n",
       "       [0.156, 0.754, 0.068, 0.793, 0.799, 0.005, 0.004, 0.003, 0.003,\n",
       "        0.004]])"
      ]
     },
     "execution_count": 16,
     "metadata": {},
     "output_type": "execute_result"
    }
   ],
   "source": [
    "# absolute mean value over time\n",
    "abs_mean = np.zeros((num_iterations, num_latent))\n",
    "for iteration in range(num_iterations):\n",
    "    abs_mean[iteration, :] = np.mean(np.abs(dropout_mean[iteration]), axis=0)\n",
    "abs_mean"
   ]
  },
  {
   "cell_type": "code",
   "execution_count": 13,
   "id": "410f020f-f96a-45b4-8f46-ee2a4f3dd00a",
   "metadata": {},
   "outputs": [
    {
     "name": "stdout",
     "output_type": "stream",
     "text": [
      "INFO:tensorflow:Saver not created because there are no variables in the graph to restore\n"
     ]
    },
    {
     "name": "stderr",
     "output_type": "stream",
     "text": [
      "INFO:tensorflow:Saver not created because there are no variables in the graph to restore\n"
     ]
    },
    {
     "name": "stdout",
     "output_type": "stream",
     "text": [
      "INFO:tensorflow:Saver not created because there are no variables in the graph to restore\n"
     ]
    },
    {
     "name": "stderr",
     "output_type": "stream",
     "text": [
      "INFO:tensorflow:Saver not created because there are no variables in the graph to restore\n"
     ]
    },
    {
     "name": "stdout",
     "output_type": "stream",
     "text": [
      "INFO:tensorflow:Saver not created because there are no variables in the graph to restore\n"
     ]
    },
    {
     "name": "stderr",
     "output_type": "stream",
     "text": [
      "INFO:tensorflow:Saver not created because there are no variables in the graph to restore\n"
     ]
    },
    {
     "name": "stdout",
     "output_type": "stream",
     "text": [
      "WARNING:tensorflow:From /home/mwu34/miniconda3/envs/tf1.5/lib/python3.7/site-packages/tensorflow_core/python/ops/array_ops.py:1475: where (from tensorflow.python.ops.array_ops) is deprecated and will be removed in a future version.\n",
      "Instructions for updating:\n",
      "Use tf.where in 2.0, which has the same broadcast rule as np.where\n"
     ]
    },
    {
     "name": "stderr",
     "output_type": "stream",
     "text": [
      "WARNING:tensorflow:From /home/mwu34/miniconda3/envs/tf1.5/lib/python3.7/site-packages/tensorflow_core/python/ops/array_ops.py:1475: where (from tensorflow.python.ops.array_ops) is deprecated and will be removed in a future version.\n",
      "Instructions for updating:\n",
      "Use tf.where in 2.0, which has the same broadcast rule as np.where\n"
     ]
    },
    {
     "name": "stdout",
     "output_type": "stream",
     "text": [
      "INFO:tensorflow:Graph was finalized.\n"
     ]
    },
    {
     "name": "stderr",
     "output_type": "stream",
     "text": [
      "INFO:tensorflow:Graph was finalized.\n"
     ]
    },
    {
     "name": "stdout",
     "output_type": "stream",
     "text": [
      "INFO:tensorflow:Running local_init_op.\n"
     ]
    },
    {
     "name": "stderr",
     "output_type": "stream",
     "text": [
      "INFO:tensorflow:Running local_init_op.\n"
     ]
    },
    {
     "name": "stdout",
     "output_type": "stream",
     "text": [
      "INFO:tensorflow:Done running local_init_op.\n"
     ]
    },
    {
     "name": "stderr",
     "output_type": "stream",
     "text": [
      "INFO:tensorflow:Done running local_init_op.\n"
     ]
    },
    {
     "name": "stdout",
     "output_type": "stream",
     "text": [
      "dict_keys(['mean', 'logvar'])\n"
     ]
    }
   ],
   "source": [
    "# retrieve the mean and logvar for this model\n",
    "module_path = \"/home/mwu34/disentanglement_lib/output_active_learning_study_v7/44/model/tfhub/\"\n",
    "representation_dict = retrieve_representation(dsprites, module_path, -1, False)"
   ]
  },
  {
   "cell_type": "code",
   "execution_count": 17,
   "id": "224390f0-5c33-40f8-86d2-15096d34ea81",
   "metadata": {},
   "outputs": [
    {
     "data": {
      "text/plain": [
       "Text(0.5, 1.0, 'correlation between mean and dropout_mean')"
      ]
     },
     "execution_count": 17,
     "metadata": {},
     "output_type": "execute_result"
    },
    {
     "data": {
      "image/png": "[encoded data removed]",
      "text/plain": [
       "<Figure size 432x288 with 2 Axes>"
      ]
     },
     "metadata": {
      "needs_background": "light"
     },
     "output_type": "display_data"
    }
   ],
   "source": [
    "# compare correlation between mean and dropout_mean\n",
    "mean_corr = np.zeros((num_iterations, num_latent))\n",
    "for iteration in range(num_iterations):\n",
    "    for latent in range(num_latent):\n",
    "        results = spearmanr(representation_dict['mean'][:, latent], dropout_mean[iteration][:, latent])\n",
    "        mean_corr[iteration, latent] = abs(results.correlation)\n",
    "        \n",
    "plt.imshow(mean_corr, cmap='hot')\n",
    "plt.clim([0, 1])\n",
    "plt.colorbar()\n",
    "plt.xlabel('dimensions')\n",
    "plt.ylabel('iterations')\n",
    "plt.title('correlation between mean and dropout_mean')"
   ]
  },
  {
   "cell_type": "code",
   "execution_count": 23,
   "id": "32ea3c24-ebf0-4cb6-bed1-c282ce103c9a",
   "metadata": {},
   "outputs": [
    {
     "data": {
      "text/plain": [
       "array([[0.63 , 0.981, 0.514, 0.998, 0.998, 0.654, 0.044, 0.361, 0.191,\n",
       "        0.397],\n",
       "       [0.74 , 0.987, 0.657, 0.999, 0.999, 0.652, 0.28 , 0.633, 0.163,\n",
       "        0.575],\n",
       "       [0.78 , 0.989, 0.705, 0.999, 0.999, 0.725, 0.472, 0.686, 0.411,\n",
       "        0.678],\n",
       "       [0.798, 0.99 , 0.716, 0.999, 0.999, 0.705, 0.452, 0.649, 0.73 ,\n",
       "        0.865],\n",
       "       [0.809, 0.991, 0.711, 0.999, 0.999, 0.847, 0.587, 0.666, 0.801,\n",
       "        0.81 ],\n",
       "       [0.813, 0.992, 0.713, 0.999, 0.999, 0.913, 0.614, 0.626, 0.742,\n",
       "        0.862],\n",
       "       [0.814, 0.992, 0.716, 0.999, 0.999, 0.931, 0.668, 0.649, 0.755,\n",
       "        0.897],\n",
       "       [0.814, 0.992, 0.74 , 0.999, 0.999, 0.937, 0.775, 0.778, 0.748,\n",
       "        0.896],\n",
       "       [0.809, 0.992, 0.744, 0.999, 0.999, 0.939, 0.784, 0.784, 0.87 ,\n",
       "        0.935]])"
      ]
     },
     "execution_count": 23,
     "metadata": {},
     "output_type": "execute_result"
    }
   ],
   "source": [
    "mean_corr"
   ]
  },
  {
   "cell_type": "code",
   "execution_count": 18,
   "id": "04f8d5e6-678c-41ad-a1b2-85f5ca992116",
   "metadata": {},
   "outputs": [
    {
     "data": {
      "text/plain": [
       "Text(0.5, 1.0, 'correlation between logvar and dropout_uncertainty')"
      ]
     },
     "execution_count": 18,
     "metadata": {},
     "output_type": "execute_result"
    },
    {
     "data": {
      "image/png": "[encoded data removed]",
      "text/plain": [
       "<Figure size 432x288 with 2 Axes>"
      ]
     },
     "metadata": {
      "needs_background": "light"
     },
     "output_type": "display_data"
    }
   ],
   "source": [
    "# compare correlation between logvar and dropout_uncertainty\n",
    "uncertainty_corr = np.zeros((num_iterations, num_latent))\n",
    "for iteration in range(num_iterations):\n",
    "    for latent in range(num_latent):\n",
    "        results = spearmanr(representation_dict['logvar'][:, latent], dropout_uncertainty[iteration][:, latent])\n",
    "        uncertainty_corr[iteration, latent] = abs(results.correlation)\n",
    "        \n",
    "plt.imshow(uncertainty_corr, cmap='hot')\n",
    "plt.clim([0, 1])\n",
    "plt.colorbar()\n",
    "plt.xlabel('dimensions')\n",
    "plt.ylabel('iterations')\n",
    "plt.title('correlation between logvar and dropout_uncertainty')"
   ]
  },
  {
   "cell_type": "code",
   "execution_count": 19,
   "id": "7cbd76d7-cece-401e-b123-801e5c628683",
   "metadata": {},
   "outputs": [
    {
     "data": {
      "text/plain": [
       "array([[0.25 , 0.133, 0.22 , 0.879, 0.886, 0.085, 0.05 , 0.09 , 0.019,\n",
       "        0.213],\n",
       "       [0.257, 0.303, 0.069, 0.899, 0.902, 0.084, 0.004, 0.079, 0.053,\n",
       "        0.17 ],\n",
       "       [0.184, 0.335, 0.158, 0.905, 0.907, 0.023, 0.091, 0.018, 0.013,\n",
       "        0.188],\n",
       "       [0.186, 0.376, 0.117, 0.91 , 0.91 , 0.007, 0.104, 0.03 , 0.054,\n",
       "        0.25 ],\n",
       "       [0.236, 0.387, 0.153, 0.91 , 0.911, 0.027, 0.042, 0.049, 0.008,\n",
       "        0.344],\n",
       "       [0.236, 0.412, 0.165, 0.911, 0.913, 0.044, 0.028, 0.073, 0.033,\n",
       "        0.366],\n",
       "       [0.28 , 0.418, 0.201, 0.911, 0.913, 0.102, 0.023, 0.043, 0.027,\n",
       "        0.352],\n",
       "       [0.309, 0.447, 0.205, 0.912, 0.915, 0.083, 0.017, 0.063, 0.053,\n",
       "        0.393],\n",
       "       [0.338, 0.451, 0.207, 0.912, 0.915, 0.111, 0.05 , 0.039, 0.033,\n",
       "        0.423]])"
      ]
     },
     "execution_count": 19,
     "metadata": {},
     "output_type": "execute_result"
    }
   ],
   "source": [
    "uncertainty_corr"
   ]
  },
  {
   "cell_type": "code",
   "execution_count": 20,
   "id": "e2be0e56-fb3d-422a-819c-55830ee7dcdb",
   "metadata": {},
   "outputs": [
    {
     "name": "stdout",
     "output_type": "stream",
     "text": [
      "no save_path specified, not saving informative points\n"
     ]
    }
   ],
   "source": [
    "all_factors = index_to_factors(np.arange(len(dsprites.images)), dsprites.factor_bases, save=False)"
   ]
  },
  {
   "cell_type": "code",
   "execution_count": 21,
   "id": "37ef0770-49e0-44be-b075-d7f15f3ab5d0",
   "metadata": {},
   "outputs": [
    {
     "data": {
      "text/plain": [
       "Text(0.5, 1.0, 'correlation between ground_truth and dropout_mean')"
      ]
     },
     "execution_count": 21,
     "metadata": {},
     "output_type": "execute_result"
    },
    {
     "data": {
      "image/png": "[encoded data removed]",
      "text/plain": [
       "<Figure size 432x288 with 2 Axes>"
      ]
     },
     "metadata": {
      "needs_background": "light"
     },
     "output_type": "display_data"
    }
   ],
   "source": [
    "# compare dropout mean to ground truth factor values\n",
    "num_gt_factors = 5\n",
    "ground_truth_mean_corr = np.zeros((num_iterations, num_gt_factors))\n",
    "for iteration in range(num_iterations):\n",
    "    for latent in range(num_gt_factors):\n",
    "        results = spearmanr(dropout_mean[iteration][:, latent], all_factors[:, latent])\n",
    "        ground_truth_mean_corr[iteration, latent] = abs(results.correlation)\n",
    "        \n",
    "plt.imshow(ground_truth_mean_corr, cmap='hot')\n",
    "plt.clim([0, 1])\n",
    "plt.colorbar()\n",
    "plt.xlabel('dimensions')\n",
    "plt.ylabel('iterations')\n",
    "plt.title('correlation between ground_truth and dropout_mean')"
   ]
  },
  {
   "cell_type": "code",
   "execution_count": 22,
   "id": "ba2fc6ef-fbfe-4028-95a0-b0b84cdfeab8",
   "metadata": {},
   "outputs": [
    {
     "data": {
      "text/plain": [
       "array([[0.283, 0.899, 0.01 , 0.995, 0.995],\n",
       "       [0.29 , 0.903, 0.016, 0.996, 0.996],\n",
       "       [0.287, 0.903, 0.015, 0.996, 0.996],\n",
       "       [0.275, 0.903, 0.015, 0.996, 0.996],\n",
       "       [0.269, 0.903, 0.015, 0.996, 0.996],\n",
       "       [0.26 , 0.902, 0.014, 0.996, 0.996],\n",
       "       [0.266, 0.902, 0.014, 0.996, 0.996],\n",
       "       [0.259, 0.901, 0.015, 0.996, 0.996],\n",
       "       [0.252, 0.901, 0.017, 0.996, 0.996]])"
      ]
     },
     "execution_count": 22,
     "metadata": {},
     "output_type": "execute_result"
    }
   ],
   "source": [
    "ground_truth_mean_corr"
   ]
  },
  {
   "cell_type": "code",
   "execution_count": null,
   "id": "0b8004e7-7326-40e1-a51c-41689bed6e91",
   "metadata": {},
   "outputs": [],
   "source": []
  }
 ],
 "metadata": {
  "kernelspec": {
   "display_name": "tf1.5",
   "language": "python",
   "name": "tf1.5"
  },
  "language_info": {
   "codemirror_mode": {
    "name": "ipython",
    "version": 3
   },
   "file_extension": ".py",
   "mimetype": "text/x-python",
   "name": "python",
   "nbconvert_exporter": "python",
   "pygments_lexer": "ipython3",
   "version": "3.7.11"
  }
 },
 "nbformat": 4,
 "nbformat_minor": 5
}
