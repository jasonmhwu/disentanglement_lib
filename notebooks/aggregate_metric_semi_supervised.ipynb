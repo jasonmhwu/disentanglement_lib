{
 "cells": [
  {
   "cell_type": "markdown",
   "id": "ddd4ba0c-dc24-4407-ae8d-2f3d5e23fa9d",
   "metadata": {},
   "source": [
    "## is semi-supervised models having higher disentanglement metrics?"
   ]
  },
  {
   "cell_type": "code",
   "execution_count": 24,
   "id": "2db6067b-1e4e-4d3d-bafc-868530c394ca",
   "metadata": {},
   "outputs": [],
   "source": [
    "# parse aggregate results\n",
    "import os\n",
    "import sys\n",
    "from tensorflow.compat.v1 import gfile\n",
    "\n",
    "sys.path.append(os.path.abspath(\"/home/mwu34/disentanglement_lib\"))\n",
    "import numpy as np\n",
    "import pandas as pd\n",
    "pd.set_option('precision', 2)\n",
    "\n",
    "import matplotlib.pyplot as plt\n",
    "%matplotlib inline\n",
    "from matplotlib import cm"
   ]
  },
  {
   "cell_type": "markdown",
   "id": "b73d8bd8-a857-42c0-9c5b-edb6cfe9225f",
   "metadata": {},
   "source": [
    "#### exp v1: 36 s2 beta vaes, 6 beta * 6 gamma_sup"
   ]
  },
  {
   "cell_type": "code",
   "execution_count": 25,
   "id": "da0ea9ec-924a-46af-ab2c-3eeb736a81e3",
   "metadata": {},
   "outputs": [
    {
     "name": "stdout",
     "output_type": "stream",
     "text": [
      "aggregated_result_df shape: (72, 81)\n",
      "metric evaluation_results.disentanglement results: \n",
      " train_final_config.s2_vae.gamma_sup    1     2     4     6     8     16\n",
      "train_final_config.s2_vae.beta                                         \n",
      "1                                    0.39  0.39  0.41  0.38  0.32  0.25\n",
      "2                                    0.45  0.47  0.46  0.46  0.42  0.29\n",
      "4                                    0.46  0.49  0.48  0.48  0.47  0.47\n",
      "6                                    0.50  0.48  0.48  0.49  0.48  0.48\n",
      "8                                    0.50  0.50  0.47  0.48  0.48  0.48\n",
      "16                                   0.52  0.51  0.51  0.51  0.50  0.50\n",
      "metric evaluation_results.discrete_mig results: \n",
      " train_final_config.s2_vae.gamma_sup    1     2     4     6     8     16\n",
      "train_final_config.s2_vae.beta                                         \n",
      "1                                    0.30  0.30  0.29  0.28  0.25  0.17\n",
      "2                                    0.35  0.35  0.34  0.34  0.30  0.18\n",
      "4                                    0.32  0.33  0.34  0.34  0.35  0.35\n",
      "6                                    0.33  0.34  0.34  0.33  0.32  0.34\n",
      "8                                    0.33  0.33  0.31  0.31  0.32  0.33\n",
      "16                                   0.32  0.30  0.29  0.29  0.29  0.28\n"
     ]
    }
   ],
   "source": [
    "# also needs: load df (results_path), metric_names, \n",
    "# assumes that results are from mean only\n",
    "# betas = df['train_final_config.s2_vae.beta'].unique()\n",
    "# gamma_sups = df['train_final_config.s2_vae.gamma_sup'].unique()\n",
    "def aggregate_metric_results(df, index_name, column_name, metric_names):\n",
    "    results_dict = dict()\n",
    "    for metric in metric_names:\n",
    "        df_cleaned = df[df[metric].notna()]\n",
    "        results_dict[metric] = pd.pivot_table(\n",
    "            df_cleaned,\n",
    "            values=metric,\n",
    "            index=index_name,\n",
    "            columns=column_name\n",
    "        )\n",
    "    return results_dict\n",
    "\n",
    "index_name = 'train_final_config.s2_vae.beta'\n",
    "column_name = 'train_final_config.s2_vae.gamma_sup'\n",
    "metric_names = ['evaluation_results.disentanglement', 'evaluation_results.discrete_mig']\n",
    "aggregated_results_path = \"/home/mwu34/disentanglement_lib/results_semi_mean_v1.json\"\n",
    "\n",
    "df = pd.read_json(aggregated_results_path)\n",
    "print(f\"aggregated_result_df shape: {df.shape}\")\n",
    "exp_results = aggregate_metric_results(df, index_name, column_name, metric_names)\n",
    "for metric in metric_names:\n",
    "    print(f\"metric {metric} results: \\n {exp_results[metric]}\")"
   ]
  },
  {
   "cell_type": "markdown",
   "id": "bd149147-3a7d-4ee2-be6b-f076f1804f6e",
   "metadata": {},
   "source": [
    "#### exp v2: criterion 'highest_summed_std' and 'lowest_summed_std'"
   ]
  },
  {
   "cell_type": "code",
   "execution_count": 28,
   "id": "a089af8d-d4f9-405b-97bf-9870656d03c7",
   "metadata": {},
   "outputs": [
    {
     "name": "stdout",
     "output_type": "stream",
     "text": [
      "aggregated_result_df shape: (72, 82)\n",
      "metric evaluation_results.disentanglement results: \n",
      " train_final_config.s2_vae.gamma_sup    1     2     4     6     8     16\n",
      "train_final_config.s2_vae.beta                                         \n",
      "1                                    0.13  0.13  0.13  0.11  0.12  0.11\n",
      "2                                    0.18  0.18  0.16  0.20  0.13  0.16\n",
      "4                                    0.13  0.20  0.22  0.22  0.15  0.15\n",
      "6                                    0.20  0.17  0.16  0.15  0.13  0.13\n",
      "8                                    0.11  0.24  0.23  0.18  0.16  0.12\n",
      "16                                   0.50  0.50  0.50  0.50  0.46  0.48\n",
      "metric evaluation_results.discrete_mig results: \n",
      " train_final_config.s2_vae.gamma_sup    1     2     4     6     8     16\n",
      "train_final_config.s2_vae.beta                                         \n",
      "1                                    0.07  0.05  0.06  0.07  0.06  0.05\n",
      "2                                    0.08  0.08  0.08  0.11  0.09  0.12\n",
      "4                                    0.07  0.11  0.15  0.14  0.08  0.05\n",
      "6                                    0.13  0.10  0.07  0.08  0.05  0.06\n",
      "8                                    0.04  0.12  0.15  0.08  0.07  0.08\n",
      "16                                   0.38  0.37  0.38  0.38  0.35  0.36\n",
      "aggregated_result_df shape: (72, 82)\n",
      "metric evaluation_results.disentanglement results: \n",
      " train_final_config.s2_vae.gamma_sup    1     2     4     6     8     16\n",
      "train_final_config.s2_vae.beta                                         \n",
      "1                                    0.13  0.16  0.13  0.15  0.14  0.08\n",
      "2                                    0.18  0.16  0.15  0.14  0.14  0.07\n",
      "4                                    0.19  0.13  0.14  0.19  0.11  0.14\n",
      "6                                    0.24  0.17  0.12  0.13  0.12  0.19\n",
      "8                                    0.12  0.12  0.21  0.12  0.10  0.12\n",
      "16                                   0.36  0.21  0.10  0.08  0.32  0.31\n",
      "metric evaluation_results.discrete_mig results: \n",
      " train_final_config.s2_vae.gamma_sup    1     2     4     6     8     16\n",
      "train_final_config.s2_vae.beta                                         \n",
      "1                                    0.05  0.08  0.07  0.07  0.05  0.02\n",
      "2                                    0.09  0.08  0.06  0.06  0.06  0.03\n",
      "4                                    0.10  0.05  0.05  0.08  0.03  0.05\n",
      "6                                    0.13  0.08  0.05  0.06  0.05  0.12\n",
      "8                                    0.05  0.07  0.13  0.09  0.07  0.07\n",
      "16                                   0.22  0.14  0.05  0.04  0.12  0.12\n"
     ]
    }
   ],
   "source": [
    "aggregated_results_path = \"/home/mwu34/disentanglement_lib/results_semi_mean_v2.json\"\n",
    "\n",
    "df = pd.read_json(aggregated_results_path)\n",
    "df_criterion_1 = df[df[\"train_final_config.model.supervised_selection_criterion\"] == \"'highest_summed_std'\"]\n",
    "print(f\"aggregated_result_df shape: {df_criterion_1.shape}\")\n",
    "exp_results = aggregate_metric_results(df_criterion_1, index_name, column_name, metric_names)\n",
    "for metric in metric_names:\n",
    "    print(f\"metric {metric} results: \\n {exp_results[metric]}\")\n",
    "    \n",
    "df_criterion_2 = df[df[\"train_final_config.model.supervised_selection_criterion\"] == \"'lowest_summed_std'\"]\n",
    "print(f\"aggregated_result_df shape: {df_criterion_2.shape}\")\n",
    "exp_results = aggregate_metric_results(df_criterion_2, index_name, column_name, metric_names)\n",
    "for metric in metric_names:\n",
    "    print(f\"metric {metric} results: \\n {exp_results[metric]}\")"
   ]
  },
  {
   "cell_type": "markdown",
   "id": "9dc101da-ebb8-424b-afad-cba6dca66c48",
   "metadata": {},
   "source": [
    "#### exp v3: criterion \"highest_summed_std_all_dims\" and \"lowest_summed_std_all_dims\""
   ]
  },
  {
   "cell_type": "code",
   "execution_count": 32,
   "id": "8bf2c70e-caf3-4d61-b001-e48021004f0e",
   "metadata": {},
   "outputs": [
    {
     "name": "stdout",
     "output_type": "stream",
     "text": [
      "aggregated_result_df shape: (18, 82)\n",
      "metric evaluation_results.disentanglement results: \n",
      " train_final_config.s2_vae.gamma_sup     1     2     4\n",
      "train_final_config.s2_vae.beta                       \n",
      "2                                    0.22  0.16  0.24\n",
      "4                                    0.18  0.23  0.27\n",
      "6                                    0.13  0.20  0.28\n",
      "metric evaluation_results.discrete_mig results: \n",
      " train_final_config.s2_vae.gamma_sup     1     2     4\n",
      "train_final_config.s2_vae.beta                       \n",
      "2                                    0.11  0.06  0.13\n",
      "4                                    0.14  0.14  0.16\n",
      "6                                    0.03  0.10  0.11\n",
      "aggregated_result_df shape: (18, 82)\n",
      "metric evaluation_results.disentanglement results: \n",
      " train_final_config.s2_vae.gamma_sup     1     2     4\n",
      "train_final_config.s2_vae.beta                       \n",
      "2                                    0.26  0.20  0.22\n",
      "4                                    0.20  0.28  0.24\n",
      "6                                    0.13  0.20  0.22\n",
      "metric evaluation_results.discrete_mig results: \n",
      " train_final_config.s2_vae.gamma_sup     1     2     4\n",
      "train_final_config.s2_vae.beta                       \n",
      "2                                    0.12  0.14  0.14\n",
      "4                                    0.11  0.15  0.15\n",
      "6                                    0.05  0.10  0.10\n"
     ]
    }
   ],
   "source": [
    "aggregated_results_path = \"/home/mwu34/disentanglement_lib/results_semi_mean_v3.json\"\n",
    "\n",
    "df = pd.read_json(aggregated_results_path)\n",
    "df_criterion_1 = df[df[\"train_final_config.model.supervised_selection_criterion\"] == \"'highest_summed_std_all_dims'\"]\n",
    "print(f\"aggregated_result_df shape: {df_criterion_1.shape}\")\n",
    "exp_results = aggregate_metric_results(df_criterion_1, index_name, column_name, metric_names)\n",
    "for metric in metric_names:\n",
    "    print(f\"metric {metric} results: \\n {exp_results[metric]}\")\n",
    "    \n",
    "df_criterion_2 = df[df[\"train_final_config.model.supervised_selection_criterion\"] == \"'lowest_summed_std_all_dims'\"]\n",
    "print(f\"aggregated_result_df shape: {df_criterion_2.shape}\")\n",
    "exp_results = aggregate_metric_results(df_criterion_2, index_name, column_name, metric_names)\n",
    "for metric in metric_names:\n",
    "    print(f\"metric {metric} results: \\n {exp_results[metric]}\")"
   ]
  },
  {
   "cell_type": "code",
   "execution_count": null,
   "id": "728fa176-c7e5-4051-b0c9-f327309c126a",
   "metadata": {},
   "outputs": [],
   "source": []
  }
 ],
 "metadata": {
  "kernelspec": {
   "display_name": "tf1.5",
   "language": "python",
   "name": "tf1.5"
  },
  "language_info": {
   "codemirror_mode": {
    "name": "ipython",
    "version": 3
   },
   "file_extension": ".py",
   "mimetype": "text/x-python",
   "name": "python",
   "nbconvert_exporter": "python",
   "pygments_lexer": "ipython3",
   "version": "3.7.11"
  }
 },
 "nbformat": 4,
 "nbformat_minor": 5
}
