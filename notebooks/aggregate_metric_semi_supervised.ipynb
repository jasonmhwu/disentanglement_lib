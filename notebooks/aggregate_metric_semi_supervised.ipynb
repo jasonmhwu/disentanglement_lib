{
 "cells": [
  {
   "cell_type": "markdown",
   "id": "ddd4ba0c-dc24-4407-ae8d-2f3d5e23fa9d",
   "metadata": {},
   "source": [
    "## is semi-supervised models having higher disentanglement metrics?"
   ]
  },
  {
   "cell_type": "code",
   "execution_count": 2,
   "id": "2db6067b-1e4e-4d3d-bafc-868530c394ca",
   "metadata": {},
   "outputs": [],
   "source": [
    "# parse aggregate results\n",
    "import os\n",
    "import sys\n",
    "from tensorflow.compat.v1 import gfile\n",
    "\n",
    "sys.path.append(os.path.abspath(\"/home/mwu34/disentanglement_lib\"))\n",
    "import numpy as np\n",
    "import pandas as pd\n",
    "\n",
    "import matplotlib.pyplot as plt\n",
    "%matplotlib inline\n",
    "from matplotlib import cm"
   ]
  },
  {
   "cell_type": "markdown",
   "id": "b73d8bd8-a857-42c0-9c5b-edb6cfe9225f",
   "metadata": {},
   "source": [
    "#### exp v1: 36 s2 beta vaes, 6 beta * 6 gamma_sup"
   ]
  },
  {
   "cell_type": "code",
   "execution_count": 7,
   "id": "da0ea9ec-924a-46af-ab2c-3eeb736a81e3",
   "metadata": {},
   "outputs": [
    {
     "name": "stdout",
     "output_type": "stream",
     "text": [
      "aggregated_result_df shape: (72, 81)\n",
      "metric evaluation_results.disentanglement results: \n",
      " train_final_config.s2_vae.gamma_sup        1         2         4         6   \\\n",
      "train_final_config.s2_vae.beta                                                \n",
      "1                                    0.392072  0.387843  0.406082  0.381558   \n",
      "2                                    0.445362  0.469128  0.460144  0.459143   \n",
      "4                                    0.464550  0.488363  0.479319  0.481825   \n",
      "6                                    0.499161  0.483474  0.482263  0.488694   \n",
      "8                                    0.500073  0.500889  0.473626  0.483673   \n",
      "16                                   0.519642  0.511197  0.511113  0.508364   \n",
      "\n",
      "train_final_config.s2_vae.gamma_sup        8         16  \n",
      "train_final_config.s2_vae.beta                           \n",
      "1                                    0.321410  0.250335  \n",
      "2                                    0.416831  0.285276  \n",
      "4                                    0.473050  0.469163  \n",
      "6                                    0.483513  0.476012  \n",
      "8                                    0.480868  0.481574  \n",
      "16                                   0.499793  0.502814  \n",
      "metric evaluation_results.discrete_mig results: \n",
      " train_final_config.s2_vae.gamma_sup        1         2         4         6   \\\n",
      "train_final_config.s2_vae.beta                                                \n",
      "1                                    0.299062  0.299902  0.293452  0.278422   \n",
      "2                                    0.348447  0.348130  0.340894  0.337704   \n",
      "4                                    0.323260  0.334567  0.336317  0.336562   \n",
      "6                                    0.329633  0.335697  0.337191  0.330206   \n",
      "8                                    0.333584  0.332529  0.308811  0.305086   \n",
      "16                                   0.323753  0.300971  0.289935  0.286343   \n",
      "\n",
      "train_final_config.s2_vae.gamma_sup        8         16  \n",
      "train_final_config.s2_vae.beta                           \n",
      "1                                    0.247451  0.171943  \n",
      "2                                    0.295445  0.178048  \n",
      "4                                    0.347465  0.349059  \n",
      "6                                    0.324675  0.335624  \n",
      "8                                    0.319624  0.334136  \n",
      "16                                   0.286988  0.282324  \n"
     ]
    }
   ],
   "source": [
    "# also needs: load df (results_path), metric_names, \n",
    "# assumes that results are from mean only\n",
    "# betas = df['train_final_config.s2_vae.beta'].unique()\n",
    "# gamma_sups = df['train_final_config.s2_vae.gamma_sup'].unique()\n",
    "def aggregate_metric_results(df, index_name, column_name, metric_names):\n",
    "    results_dict = dict()\n",
    "    for metric in metric_names:\n",
    "        df_cleaned = df[df[metric].notna()]\n",
    "        results_dict[metric] = pd.pivot_table(\n",
    "            df_cleaned,\n",
    "            values=metric,\n",
    "            index=index_name,\n",
    "            columns=column_name\n",
    "        )\n",
    "    return results_dict\n",
    "\n",
    "index_name = 'train_final_config.s2_vae.beta'\n",
    "column_name = 'train_final_config.s2_vae.gamma_sup'\n",
    "metric_names = ['evaluation_results.disentanglement', 'evaluation_results.discrete_mig']\n",
    "aggregated_results_path = \"/home/mwu34/disentanglement_lib/results_semi_mean_v1.json\"\n",
    "\n",
    "df = pd.read_json(aggregated_results_path)\n",
    "print(f\"aggregated_result_df shape: {df.shape}\")\n",
    "exp_results = aggregate_metric_results(df, index_name, column_name, metric_names)\n",
    "for metric in metric_names:\n",
    "    print(f\"metric {metric} results: \\n {exp_results[metric]}\")"
   ]
  },
  {
   "cell_type": "code",
   "execution_count": null,
   "id": "a089af8d-d4f9-405b-97bf-9870656d03c7",
   "metadata": {},
   "outputs": [],
   "source": []
  }
 ],
 "metadata": {
  "kernelspec": {
   "display_name": "tf1.5",
   "language": "python",
   "name": "tf1.5"
  },
  "language_info": {
   "codemirror_mode": {
    "name": "ipython",
    "version": 3
   },
   "file_extension": ".py",
   "mimetype": "text/x-python",
   "name": "python",
   "nbconvert_exporter": "python",
   "pygments_lexer": "ipython3",
   "version": "3.7.11"
  }
 },
 "nbformat": 4,
 "nbformat_minor": 5
}
