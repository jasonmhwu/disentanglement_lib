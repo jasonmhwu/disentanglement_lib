{
 "cells": [
  {
   "cell_type": "markdown",
   "id": "48c4cdce-bf58-4c4c-b49d-ec5f1f62265c",
   "metadata": {},
   "source": [
    "## Play around datasets and create one with hierarchical prior\n"
   ]
  },
  {
   "cell_type": "code",
   "execution_count": 1,
   "id": "0d6bfcd4-d65a-4cd6-9d92-ef804db27fba",
   "metadata": {},
   "outputs": [],
   "source": [
    "import os\n",
    "import sys\n",
    "from tensorflow.compat.v1 import gfile\n",
    "\n",
    "sys.path.append(os.path.abspath(\"/home/mwu34/disentanglement_lib\"))\n",
    "import numpy as np\n",
    "import pandas as pd\n",
    "pd.options.display.max_rows = 999\n",
    "\n",
    "DSPRITES_PATH = os.path.join(\n",
    "    os.environ.get(\"DISENTANGLEMENT_LIB_DATA\", \".\"), \"dsprites\",\n",
    "    \"dsprites_ndarray_co1sh3sc6or40x32y32_64x64.npz\"\n",
    ")"
   ]
  },
  {
   "cell_type": "code",
   "execution_count": 7,
   "id": "a306e395-a9c4-466a-abcc-b6feed56d134",
   "metadata": {},
   "outputs": [],
   "source": [
    "with gfile.Open(DSPRITES_PATH, \"rb\") as data_file:\n",
    "    # Data was saved originally using python2, so we need to set the encoding.\n",
    "    data = np.load(data_file, encoding=\"latin1\", allow_pickle=True)\n",
    "    images = np.array(data[\"imgs\"])  # has shape 737280 * 64 * 64\n",
    "    factor_sizes = np.array(data[\"metadata\"][()][\"latents_sizes\"], dtype=np.int64)"
   ]
  },
  {
   "cell_type": "code",
   "execution_count": 28,
   "id": "d68dbef4-56dc-4519-91c2-b22f669a2b1a",
   "metadata": {},
   "outputs": [
    {
     "data": {
      "text/html": [
       "<div>\n",
       "<style scoped>\n",
       "    .dataframe tbody tr th:only-of-type {\n",
       "        vertical-align: middle;\n",
       "    }\n",
       "\n",
       "    .dataframe tbody tr th {\n",
       "        vertical-align: top;\n",
       "    }\n",
       "\n",
       "    .dataframe thead th {\n",
       "        text-align: right;\n",
       "    }\n",
       "</style>\n",
       "<table border=\"1\" class=\"dataframe\">\n",
       "  <thead>\n",
       "    <tr style=\"text-align: right;\">\n",
       "      <th></th>\n",
       "      <th>dataset.name</th>\n",
       "      <th>encoder.encoder_fn</th>\n",
       "      <th>decoder.decoder_fn</th>\n",
       "      <th>model.name</th>\n",
       "      <th>vae.beta</th>\n",
       "      <th>model.model</th>\n",
       "      <th>model.random_seed</th>\n",
       "    </tr>\n",
       "  </thead>\n",
       "  <tbody>\n",
       "    <tr>\n",
       "      <th>0</th>\n",
       "      <td>dsprites_full</td>\n",
       "      <td>@conv_encoder</td>\n",
       "      <td>@deconv_decoder</td>\n",
       "      <td>beta_vae</td>\n",
       "      <td>1.0</td>\n",
       "      <td>@vae()</td>\n",
       "      <td>0</td>\n",
       "    </tr>\n",
       "    <tr>\n",
       "      <th>1</th>\n",
       "      <td>dsprites_full</td>\n",
       "      <td>@conv_encoder</td>\n",
       "      <td>@deconv_decoder</td>\n",
       "      <td>beta_vae</td>\n",
       "      <td>1.0</td>\n",
       "      <td>@vae()</td>\n",
       "      <td>1</td>\n",
       "    </tr>\n",
       "    <tr>\n",
       "      <th>2</th>\n",
       "      <td>dsprites_full</td>\n",
       "      <td>@conv_encoder</td>\n",
       "      <td>@deconv_decoder</td>\n",
       "      <td>beta_vae</td>\n",
       "      <td>2.0</td>\n",
       "      <td>@vae()</td>\n",
       "      <td>0</td>\n",
       "    </tr>\n",
       "    <tr>\n",
       "      <th>3</th>\n",
       "      <td>dsprites_full</td>\n",
       "      <td>@conv_encoder</td>\n",
       "      <td>@deconv_decoder</td>\n",
       "      <td>beta_vae</td>\n",
       "      <td>2.0</td>\n",
       "      <td>@vae()</td>\n",
       "      <td>1</td>\n",
       "    </tr>\n",
       "    <tr>\n",
       "      <th>4</th>\n",
       "      <td>dsprites_full</td>\n",
       "      <td>@conv_encoder</td>\n",
       "      <td>@deconv_decoder</td>\n",
       "      <td>beta_vae</td>\n",
       "      <td>4.0</td>\n",
       "      <td>@vae()</td>\n",
       "      <td>0</td>\n",
       "    </tr>\n",
       "    <tr>\n",
       "      <th>5</th>\n",
       "      <td>dsprites_full</td>\n",
       "      <td>@conv_encoder</td>\n",
       "      <td>@deconv_decoder</td>\n",
       "      <td>beta_vae</td>\n",
       "      <td>4.0</td>\n",
       "      <td>@vae()</td>\n",
       "      <td>1</td>\n",
       "    </tr>\n",
       "    <tr>\n",
       "      <th>6</th>\n",
       "      <td>dsprites_full</td>\n",
       "      <td>@conv_encoder</td>\n",
       "      <td>@deconv_decoder</td>\n",
       "      <td>beta_vae</td>\n",
       "      <td>6.0</td>\n",
       "      <td>@vae()</td>\n",
       "      <td>0</td>\n",
       "    </tr>\n",
       "    <tr>\n",
       "      <th>7</th>\n",
       "      <td>dsprites_full</td>\n",
       "      <td>@conv_encoder</td>\n",
       "      <td>@deconv_decoder</td>\n",
       "      <td>beta_vae</td>\n",
       "      <td>6.0</td>\n",
       "      <td>@vae()</td>\n",
       "      <td>1</td>\n",
       "    </tr>\n",
       "    <tr>\n",
       "      <th>8</th>\n",
       "      <td>dsprites_full</td>\n",
       "      <td>@conv_encoder</td>\n",
       "      <td>@deconv_decoder</td>\n",
       "      <td>beta_vae</td>\n",
       "      <td>8.0</td>\n",
       "      <td>@vae()</td>\n",
       "      <td>0</td>\n",
       "    </tr>\n",
       "    <tr>\n",
       "      <th>9</th>\n",
       "      <td>dsprites_full</td>\n",
       "      <td>@conv_encoder</td>\n",
       "      <td>@deconv_decoder</td>\n",
       "      <td>beta_vae</td>\n",
       "      <td>8.0</td>\n",
       "      <td>@vae()</td>\n",
       "      <td>1</td>\n",
       "    </tr>\n",
       "    <tr>\n",
       "      <th>10</th>\n",
       "      <td>dsprites_full</td>\n",
       "      <td>@conv_encoder</td>\n",
       "      <td>@deconv_decoder</td>\n",
       "      <td>beta_vae</td>\n",
       "      <td>16.0</td>\n",
       "      <td>@vae()</td>\n",
       "      <td>0</td>\n",
       "    </tr>\n",
       "    <tr>\n",
       "      <th>11</th>\n",
       "      <td>dsprites_full</td>\n",
       "      <td>@conv_encoder</td>\n",
       "      <td>@deconv_decoder</td>\n",
       "      <td>beta_vae</td>\n",
       "      <td>16.0</td>\n",
       "      <td>@vae()</td>\n",
       "      <td>1</td>\n",
       "    </tr>\n",
       "  </tbody>\n",
       "</table>\n",
       "</div>"
      ],
      "text/plain": [
       "     dataset.name encoder.encoder_fn decoder.decoder_fn model.name  vae.beta  \\\n",
       "0   dsprites_full      @conv_encoder    @deconv_decoder   beta_vae       1.0   \n",
       "1   dsprites_full      @conv_encoder    @deconv_decoder   beta_vae       1.0   \n",
       "2   dsprites_full      @conv_encoder    @deconv_decoder   beta_vae       2.0   \n",
       "3   dsprites_full      @conv_encoder    @deconv_decoder   beta_vae       2.0   \n",
       "4   dsprites_full      @conv_encoder    @deconv_decoder   beta_vae       4.0   \n",
       "5   dsprites_full      @conv_encoder    @deconv_decoder   beta_vae       4.0   \n",
       "6   dsprites_full      @conv_encoder    @deconv_decoder   beta_vae       6.0   \n",
       "7   dsprites_full      @conv_encoder    @deconv_decoder   beta_vae       6.0   \n",
       "8   dsprites_full      @conv_encoder    @deconv_decoder   beta_vae       8.0   \n",
       "9   dsprites_full      @conv_encoder    @deconv_decoder   beta_vae       8.0   \n",
       "10  dsprites_full      @conv_encoder    @deconv_decoder   beta_vae      16.0   \n",
       "11  dsprites_full      @conv_encoder    @deconv_decoder   beta_vae      16.0   \n",
       "\n",
       "   model.model  model.random_seed  \n",
       "0       @vae()                  0  \n",
       "1       @vae()                  1  \n",
       "2       @vae()                  0  \n",
       "3       @vae()                  1  \n",
       "4       @vae()                  0  \n",
       "5       @vae()                  1  \n",
       "6       @vae()                  0  \n",
       "7       @vae()                  1  \n",
       "8       @vae()                  0  \n",
       "9       @vae()                  1  \n",
       "10      @vae()                  0  \n",
       "11      @vae()                  1  "
      ]
     },
     "execution_count": 28,
     "metadata": {},
     "output_type": "execute_result"
    }
   ],
   "source": [
    "# trying to get mapping from specific parameter combinations to model num\n",
    "\n",
    "# from disentanglement_lib.config.unsupervised_study_v1.sweep import get_config\n",
    "# from disentanglement_lib.config.double_descent_study_v10.sweep import get_config\n",
    "from disentanglement_lib.config.active_learning_study_v1.sweep import get_config\n",
    "\n",
    "\n",
    "import pandas as pd\n",
    "\n",
    "configs = get_config()\n",
    "df = pd.DataFrame(configs)\n",
    "\n",
    "# Get the beta_tc_vae models using dsprites and a beta param of 4.\n",
    "# model = df['model.name'] == \"beta_tc_vae\"\n",
    "dataset = df['dataset.name'] == \"dsprites_full\"\n",
    "# beta = df[\"vae.beta\"] == 1.0\n",
    "\n",
    "# Give all the possible model configs unused parameters excluded (e.g., annealed_vae.gamma)\n",
    "# print(df[model & dataset & beta].dropna(axis=1))\n",
    "\n",
    "# Give the list of model ids with this configuration\n",
    "df[dataset].head(200)\n"
   ]
  },
  {
   "cell_type": "code",
   "execution_count": 3,
   "id": "a1ddcddb-8e24-4165-8686-6db303395e30",
   "metadata": {},
   "outputs": [],
   "source": [
    "from disentanglement_lib.data.ground_truth import named_data\n",
    "dsprites = named_data.get_named_ground_truth_data('dsprites_full', 0)"
   ]
  },
  {
   "cell_type": "code",
   "execution_count": 2,
   "id": "11e3d6a3-30ef-4d41-bf62-cf2cbabe8060",
   "metadata": {},
   "outputs": [
    {
     "name": "stdout",
     "output_type": "stream",
     "text": [
      "/home/mwu34/disentanglement_lib/disentanglement_lib/config/active_learning_study_v1/model_configs/shared.gin\n",
      "['model.model_num = 0', \"dataset.name = 'dsprites_full'\", 'encoder.encoder_fn = @conv_encoder', 'decoder.decoder_fn = @deconv_decoder', \"model.name = 's2_beta_vae'\", 's2_vae.beta = 1.0', 's2_vae.gamma_sup = 1.0', 'model.model = @s2_vae()', 'model.model_seed = 0']\n"
     ]
    },
    {
     "data": {
      "text/plain": [
       "[ParsedConfigFileIncludesAndImports(filename='/home/mwu34/disentanglement_lib/disentanglement_lib/config/active_learning_study_v1/model_configs/shared.gin', imports=[], includes=[])]"
      ]
     },
     "execution_count": 2,
     "metadata": {},
     "output_type": "execute_result"
    }
   ],
   "source": [
    "from disentanglement_lib.methods.semi_supervised import semi_supervised_utils  # pylint: disable=unused-import\n",
    "from disentanglement_lib.methods.semi_supervised import train_semi_supervised_lib\n",
    "from disentanglement_lib.config.active_learning_study_v1.sweep import ActiveLearningStudyV1\n",
    "from absl import logging\n",
    "import gin.tf\n",
    "\n",
    "study = ActiveLearningStudyV1()\n",
    "output_directory = '/home/mwu34/disentanglement_lib/test'\n",
    "\n",
    "model_bindings, model_config_file = study.get_model_config(0)\n",
    "logging.info(\"Training model...\")\n",
    "model_dir = os.path.join(output_directory, \"model\")\n",
    "model_bindings = [\n",
    "    \"model.model_num = {}\".format(0),\n",
    "] + model_bindings\n",
    "print(model_config_file)\n",
    "print(model_bindings)\n",
    "gin.parse_config_files_and_bindings([model_config_file], [])\n",
    "\n",
    "# train_semi_supervised_lib.train_with_gin(model_dir, False, [model_config_file],\n",
    "#                      model_bindings)\n",
    "\n",
    "\n"
   ]
  },
  {
   "cell_type": "code",
   "execution_count": 4,
   "id": "def12d55-12c4-4ddb-bbff-bb2284ff5113",
   "metadata": {},
   "outputs": [],
   "source": [
    "(sampled_observations, sampled_factors, factor_sizes) = semi_supervised_utils.sample_supervised_data(\n",
    "       0, dsprites, 100\n",
    ")"
   ]
  },
  {
   "cell_type": "code",
   "execution_count": 9,
   "id": "62b2ead1-f187-4874-bc73-1099ee391091",
   "metadata": {},
   "outputs": [
    {
     "data": {
      "text/plain": [
       "[3, 6, 40, 32, 32]"
      ]
     },
     "execution_count": 9,
     "metadata": {},
     "output_type": "execute_result"
    }
   ],
   "source": [
    "factor_sizes"
   ]
  },
  {
   "cell_type": "code",
   "execution_count": 7,
   "id": "7af00210-e517-4136-87b1-74459c309e08",
   "metadata": {},
   "outputs": [],
   "source": [
    "from disentanglement_lib.data.ground_truth import named_data\n",
    "\n",
    "\n",
    "dsprites_subset = named_data.get_named_ground_truth_data(\n",
    "    'dsprites_full',\n",
    "    train_with_full_dataset=False,\n",
    "    split_method='train',\n",
    "    num_training_data=700000\n",
    ")"
   ]
  },
  {
   "cell_type": "code",
   "execution_count": 8,
   "id": "3c83d865-fbb6-4a0c-afb2-126dac5decbf",
   "metadata": {},
   "outputs": [
    {
     "ename": "AttributeError",
     "evalue": "'SubsetDSprites' object has no attribute 'dataset_indices'",
     "output_type": "error",
     "traceback": [
      "\u001b[0;31m---------------------------------------------------------------------------\u001b[0m",
      "\u001b[0;31mAttributeError\u001b[0m                            Traceback (most recent call last)",
      "\u001b[0;32m<ipython-input-8-8e2cf3a6c8df>\u001b[0m in \u001b[0;36m<module>\u001b[0;34m\u001b[0m\n\u001b[0;32m----> 1\u001b[0;31m \u001b[0mlen\u001b[0m\u001b[0;34m(\u001b[0m\u001b[0mdsprites_subset\u001b[0m\u001b[0;34m.\u001b[0m\u001b[0mdataset_indices\u001b[0m\u001b[0;34m)\u001b[0m\u001b[0;34m\u001b[0m\u001b[0;34m\u001b[0m\u001b[0m\n\u001b[0m",
      "\u001b[0;31mAttributeError\u001b[0m: 'SubsetDSprites' object has no attribute 'dataset_indices'"
     ]
    }
   ],
   "source": [
    "len(dsprites_subset.dataset_indices)"
   ]
  },
  {
   "cell_type": "code",
   "execution_count": 11,
   "id": "54f854a7-4ca7-4f61-a229-be9cc71a2096",
   "metadata": {},
   "outputs": [
    {
     "ename": "AttributeError",
     "evalue": "'SubsetDSprites' object has no attribute 'dataset_indices'",
     "output_type": "error",
     "traceback": [
      "\u001b[0;31m---------------------------------------------------------------------------\u001b[0m",
      "\u001b[0;31mAttributeError\u001b[0m                            Traceback (most recent call last)",
      "\u001b[0;32m<ipython-input-11-40ec8ff4348e>\u001b[0m in \u001b[0;36m<module>\u001b[0;34m\u001b[0m\n\u001b[1;32m      1\u001b[0m \u001b[0mrandom_state\u001b[0m \u001b[0;34m=\u001b[0m \u001b[0mnp\u001b[0m\u001b[0;34m.\u001b[0m\u001b[0mrandom\u001b[0m\u001b[0;34m.\u001b[0m\u001b[0mRandomState\u001b[0m\u001b[0;34m(\u001b[0m\u001b[0;36m0\u001b[0m\u001b[0;34m)\u001b[0m\u001b[0;34m\u001b[0m\u001b[0;34m\u001b[0m\u001b[0m\n\u001b[0;32m----> 2\u001b[0;31m \u001b[0mfactors\u001b[0m\u001b[0;34m,\u001b[0m \u001b[0mimages\u001b[0m \u001b[0;34m=\u001b[0m \u001b[0mdsprites_subset\u001b[0m\u001b[0;34m.\u001b[0m\u001b[0msample\u001b[0m\u001b[0;34m(\u001b[0m\u001b[0;36m5\u001b[0m\u001b[0;34m,\u001b[0m \u001b[0mrandom_state\u001b[0m\u001b[0;34m)\u001b[0m\u001b[0;34m\u001b[0m\u001b[0;34m\u001b[0m\u001b[0m\n\u001b[0m",
      "\u001b[0;32m~/disentanglement_lib/disentanglement_lib/data/ground_truth/dsprites.py\u001b[0m in \u001b[0;36msample\u001b[0;34m(self, num, random_state)\u001b[0m\n\u001b[1;32m    358\u001b[0m     \u001b[0;31m# return factors, self.sample_observations_from_factors(factors, random_state)\u001b[0m\u001b[0;34m\u001b[0m\u001b[0;34m\u001b[0m\u001b[0;34m\u001b[0m\u001b[0m\n\u001b[1;32m    359\u001b[0m     batch_indices = random_state.choice(\n\u001b[0;32m--> 360\u001b[0;31m       \u001b[0mself\u001b[0m\u001b[0;34m.\u001b[0m\u001b[0mdataset_indices\u001b[0m\u001b[0;34m,\u001b[0m\u001b[0;34m\u001b[0m\u001b[0;34m\u001b[0m\u001b[0m\n\u001b[0m\u001b[1;32m    361\u001b[0m       \u001b[0msize\u001b[0m\u001b[0;34m=\u001b[0m\u001b[0mnum\u001b[0m\u001b[0;34m,\u001b[0m\u001b[0;34m\u001b[0m\u001b[0;34m\u001b[0m\u001b[0m\n\u001b[1;32m    362\u001b[0m       \u001b[0mreplace\u001b[0m\u001b[0;34m=\u001b[0m\u001b[0;32mTrue\u001b[0m\u001b[0;34m\u001b[0m\u001b[0;34m\u001b[0m\u001b[0m\n",
      "\u001b[0;31mAttributeError\u001b[0m: 'SubsetDSprites' object has no attribute 'dataset_indices'"
     ]
    }
   ],
   "source": [
    "random_state = np.random.RandomState(0)\n",
    "factors, images = dsprites_subset.sample(5, random_state)"
   ]
  },
  {
   "cell_type": "code",
   "execution_count": 42,
   "id": "482c83f3-ea2e-4214-ac94-ea1aefd3c1cb",
   "metadata": {},
   "outputs": [],
   "source": [
    "num_factors = 5\n",
    "\n",
    "def index_to_factors(index_array, factor_bases):\n",
    "    factor_bases = factor_bases.astype(int)\n",
    "    print(factor_bases)\n",
    "    factors = np.zeros((len(index_array), num_factors))\n",
    "    for factor_idx, factor_base in enumerate(factor_bases[1:]):\n",
    "        factors[:, factor_idx], index_array = np.divmod(index_array, factor_base)\n",
    "    return factors\n",
    "\n",
    "def factors_to_index(factor_array, factor_bases):\n",
    "    indices = np.array(np.dot(factor_array, factor_bases), dtype=np.int64)\n",
    "    return indices"
   ]
  },
  {
   "cell_type": "code",
   "execution_count": 40,
   "id": "23806f4a-e348-4619-8d8f-4d8701ca7e8f",
   "metadata": {},
   "outputs": [
    {
     "name": "stdout",
     "output_type": "stream",
     "text": [
      "[737280 245760  40960   1024     32      1]\n"
     ]
    }
   ],
   "source": [
    "gg = np.array([10000, 20000, 30000, 700000])\n",
    "res = index_to_factors(gg, dsprites.factor_bases)"
   ]
  },
  {
   "cell_type": "code",
   "execution_count": 45,
   "id": "1774986f-066a-4f08-8dd4-5fc14831d5cd",
   "metadata": {},
   "outputs": [
    {
     "data": {
      "text/plain": [
       "array([ 10000,  20000,  30000, 700000])"
      ]
     },
     "execution_count": 45,
     "metadata": {},
     "output_type": "execute_result"
    }
   ],
   "source": [
    "back = factors_to_index(res, dsprites.factor_bases[1:])\n",
    "back"
   ]
  },
  {
   "cell_type": "code",
   "execution_count": 32,
   "id": "8ba5940e-819e-4464-8292-1fe05a5b143e",
   "metadata": {},
   "outputs": [
    {
     "data": {
      "text/plain": [
       "array([7.3728e+05, 2.4576e+05, 4.0960e+04, 1.0240e+03, 3.2000e+01,\n",
       "       1.0000e+00])"
      ]
     },
     "execution_count": 32,
     "metadata": {},
     "output_type": "execute_result"
    }
   ],
   "source": [
    "dsprites.factor_bases"
   ]
  },
  {
   "cell_type": "code",
   "execution_count": 7,
   "id": "3d920e7d-8b89-4317-a8e7-29da34c93bd9",
   "metadata": {},
   "outputs": [],
   "source": [
    "\n",
    "a, b = dsprites.sample(10, random_state)"
   ]
  },
  {
   "cell_type": "code",
   "execution_count": 10,
   "id": "6014cc1a-0fd4-42c3-a19f-f4ade4d5417b",
   "metadata": {},
   "outputs": [
    {
     "data": {
      "text/plain": [
       "(10, 5)"
      ]
     },
     "execution_count": 10,
     "metadata": {},
     "output_type": "execute_result"
    }
   ],
   "source": [
    "a.shape"
   ]
  },
  {
   "cell_type": "code",
   "execution_count": 17,
   "id": "eb654c9f-a92b-47dc-a028-7cb3f53a76fd",
   "metadata": {},
   "outputs": [],
   "source": [
    "# split dsprites dataset into two parts\n",
    "\n",
    "full_size = np.prod(dsprites.factor_sizes)\n",
    "train_dataset_size = 7000\n",
    "train_indices = np.random.choice(full_size, train_dataset_size, replace=False)\n",
    "train_indices = np.sort(train_indices)\n",
    "valid_indices = np.delete(np.arange(full_size), train_indices)\n",
    "\n",
    "train_indices_path = os.path.join(\n",
    "    os.environ.get(\"DISENTANGLEMENT_LIB_DATA\", \".\"), \"dsprites\", f\"train{train_dataset_size}.npy\"\n",
    ")\n",
    "valid_indices_path = os.path.join(\n",
    "    os.environ.get(\"DISENTANGLEMENT_LIB_DATA\", \".\"), \"dsprites\", f\"valid{train_dataset_size}.npy\"\n",
    ")\n",
    "np.save(train_indices_path, train_indices)\n",
    "np.save(valid_indices_path, valid_indices)"
   ]
  },
  {
   "cell_type": "code",
   "execution_count": 21,
   "id": "199c869e-c934-4826-a63f-57fb49da2637",
   "metadata": {},
   "outputs": [
    {
     "data": {
      "text/plain": [
       "array([ 3, 50, 50])"
      ]
     },
     "execution_count": 21,
     "metadata": {},
     "output_type": "execute_result"
    }
   ],
   "source": [
    "gg = np.random.choice([10, 50, 3], 3, replace=True)\n",
    "gg"
   ]
  },
  {
   "cell_type": "code",
   "execution_count": 62,
   "id": "c2c21d71-3922-4c75-8b60-df806861e368",
   "metadata": {},
   "outputs": [
    {
     "data": {
      "text/plain": [
       "True"
      ]
     },
     "execution_count": 62,
     "metadata": {},
     "output_type": "execute_result"
    }
   ],
   "source": [
    "4688 in valid_indices"
   ]
  },
  {
   "cell_type": "code",
   "execution_count": 23,
   "id": "b2adb3e3-6028-4c5c-929e-2f0e3fc7e0dd",
   "metadata": {},
   "outputs": [
    {
     "data": {
      "text/plain": [
       "3"
      ]
     },
     "execution_count": 23,
     "metadata": {},
     "output_type": "execute_result"
    }
   ],
   "source": [
    "len(gg)"
   ]
  },
  {
   "cell_type": "code",
   "execution_count": null,
   "id": "b871fc12-5089-4a4a-a7c4-612dcef17c12",
   "metadata": {},
   "outputs": [],
   "source": []
  }
 ],
 "metadata": {
  "kernelspec": {
   "display_name": "tf1.5",
   "language": "python",
   "name": "tf1.5"
  },
  "language_info": {
   "codemirror_mode": {
    "name": "ipython",
    "version": 3
   },
   "file_extension": ".py",
   "mimetype": "text/x-python",
   "name": "python",
   "nbconvert_exporter": "python",
   "pygments_lexer": "ipython3",
   "version": "3.7.11"
  }
 },
 "nbformat": 4,
 "nbformat_minor": 5
}
