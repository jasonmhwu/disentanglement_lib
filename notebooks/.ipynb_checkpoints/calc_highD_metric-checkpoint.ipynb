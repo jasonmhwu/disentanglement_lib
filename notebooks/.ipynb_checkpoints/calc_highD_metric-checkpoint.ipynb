{
 "cells": [
  {
   "cell_type": "markdown",
   "id": "492d44b3-232e-46ea-bc8b-0a78013cb7c1",
   "metadata": {},
   "source": [
    "### Calculate multidimensional disentanglement metric"
   ]
  },
  {
   "cell_type": "markdown",
   "id": "a209a66c-f2cd-4ce2-ad69-7557ba0807ff",
   "metadata": {},
   "source": [
    "#### imports and functions"
   ]
  },
  {
   "cell_type": "code",
   "execution_count": 69,
   "id": "ca037adb-1fb4-47b3-be5c-3e04bcc6b9a7",
   "metadata": {
    "tags": []
   },
   "outputs": [],
   "source": [
    "# imports\n",
    "import os\n",
    "import sys\n",
    "import tensorflow as tf\n",
    "import tensorflow_hub as hub\n",
    "from tensorflow.compat.v1 import gfile\n",
    "import pdb\n",
    "import pickle\n",
    "\n",
    "os.environ['CUDA_VISIBLE_DEVICES'] = '-1'  # CPU-only\n",
    "\n",
    "sys.path.append(os.path.abspath(\"/home/mwu34/disentanglement_lib\"))\n",
    "import numpy as np\n",
    "np.set_printoptions(precision=3, suppress=True)\n",
    "\n",
    "import pandas as pd\n",
    "\n",
    "import matplotlib.pyplot as plt\n",
    "%matplotlib inline\n",
    "from matplotlib import cm\n",
    "\n",
    "from scipy.stats import spearmanr"
   ]
  }
 ],
 "metadata": {
  "kernelspec": {
   "display_name": "tf1.5",
   "language": "python",
   "name": "tf1.5"
  },
  "language_info": {
   "codemirror_mode": {
    "name": "ipython",
    "version": 3
   },
   "file_extension": ".py",
   "mimetype": "text/x-python",
   "name": "python",
   "nbconvert_exporter": "python",
   "pygments_lexer": "ipython3",
   "version": "3.7.11"
  }
 },
 "nbformat": 4,
 "nbformat_minor": 5
}
